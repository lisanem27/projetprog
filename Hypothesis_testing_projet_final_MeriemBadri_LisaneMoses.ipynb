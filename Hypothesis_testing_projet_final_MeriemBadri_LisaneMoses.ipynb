{
 "cells": [
  {
   "cell_type": "markdown",
   "metadata": {
    "id": "WOny6YBfLEYe"
   },
   "source": []
  },
  {
   "cell_type": "code",
   "execution_count": null,
   "metadata": {
    "colab": {
     "base_uri": "https://localhost:8080/"
    },
    "id": "wM78s08fLDBW",
    "outputId": "92fafc48-7947-47fe-a92d-774d48d330ee"
   },
   "outputs": [],
   "source": []
  },
  {
   "cell_type": "code",
   "execution_count": null,
   "metadata": {
    "colab": {
     "base_uri": "https://localhost:8080/"
    },
    "id": "gh8278QRLMo1",
    "outputId": "a67e0c56-2ec3-4b66-fa89-d1d09d54f922"
   },
   "outputs": [],
   "source": [
    "\n"
   ]
  },
  {
   "cell_type": "code",
   "execution_count": 6,
   "metadata": {
    "colab": {
     "base_uri": "https://localhost:8080/"
    },
    "id": "Y5goxOVKLQ7O",
    "outputId": "eb2b91b0-efd1-4a8d-820f-8be7e1dd69de"
   },
   "outputs": [
    {
     "name": "stdout",
     "output_type": "stream",
     "text": [
      " Le volume dans le lecteur C n’a pas de nom.\n",
      " Le numéro de série du volume est 848B-4814\n",
      "\n",
      " Répertoire de C:\\Users\\Lisane\\Downloads\n",
      "\n",
      "2021-04-27  12:04    <DIR>          .\n",
      "2021-04-27  12:04    <DIR>          ..\n",
      "2021-04-23  19:05    <DIR>          .ipynb_checkpoints\n",
      "2021-03-12  16:05    <DIR>          _temp_matlab_R2021a_win64\n",
      "2020-11-01  12:26         1 649 953 0-0_Nomenclature_2020-06-29.pdf\n",
      "2021-04-13  15:34             1 670 10.1007_s10597-019-00529-y-citation.ris\n",
      "2020-11-02  10:12           930 853 10-Apprentissage.pdf\n",
      "2020-11-02  10:10           813 986 10-Apprentissage.pptx\n",
      "2021-01-21  12:20            62 353 11377-modele-cv-suivre-phd-professionnel.pdf\n",
      "2020-12-10  15:10         1 338 873 119232023_941934066286386_5913813346592667732_n.jpg\n",
      "2020-11-09  10:37         1 265 054 11-Psychanalyse.pdf\n",
      "2020-11-09  10:36         3 043 874 11-Psychanalyse.pptx\n",
      "2020-10-25  15:38         2 970 720 122151569_2786867231570916_4309485696020870866_n.png\n",
      "2020-10-25  15:38         2 594 785 122278317_676079856672369_649231686914054949_n.png\n",
      "2020-12-10  15:08         2 791 794 122978168_381825629677516_8004710516337924905_n.png\n",
      "2020-10-30  09:15           323 440 123200416_671432433766342_758398928319989700_n.jpg\n",
      "2021-01-26  14:39           195 387 12669-lettre-recommandation-cycles-superieurs (1).pdf\n",
      "2021-01-21  12:18           163 588 12669-lettre-recommandation-cycles-superieurs.pdf\n",
      "2020-11-16  21:24           623 475 12-Exist_phe´nom-hum.pdf\n",
      "2020-11-16  21:23           644 709 12-Exist_phe´nom-hum.pptx\n",
      "2020-11-16  21:24           759 058 13-Cognitivisme.pdf\n",
      "2020-11-16  21:24         1 172 886 13-Cognitivisme.pptx\n",
      "2020-11-25  12:05           818 802 14-E´volution-pratiques1 (1).pptx\n",
      "2020-11-25  12:06           697 587 14-E´volution-pratiques1.pdf\n",
      "2020-11-25  12:05           818 802 14-E´volution-pratiques1.pptx\n",
      "2021-03-19  14:08           301 378 158576461_464836118286888_5293019317235624534_n (1).jpg\n",
      "2021-03-19  14:08           301 378 158576461_464836118286888_5293019317235624534_n.jpg\n",
      "2021-03-19  14:08           305 081 158786532_2793807844219241_6552210206239420375_n.jpg\n",
      "2021-03-19  14:09           165 519 158943084_487002172683282_9110346206419180085_n.jpg\n",
      "2021-03-12  17:57           304 744 159974880_913126289474019_1349921875894521048_n.jpg\n",
      "2020-12-02  10:13           972 861 15-E´volution-pratiques2.pdf\n",
      "2020-12-02  09:55         1 760 940 15-E´volution-pratiques2.pptx\n",
      "2021-03-15  13:44            64 873 161279460_936161757145608_4310617355756859384_n.jpg\n",
      "2021-04-24  11:56            93 939 175596705_132017418906852_8755928600821101961_n.jpg\n",
      "2021-04-24  11:56           109 620 176830647_155294116527765_7247806242961679782_n.jpg\n",
      "2020-10-28  12:18           734 095 1-s2.0-0010027785900228-main.pdf\n",
      "2021-01-23  18:12           389 236 1-s2.0-S0003448716301950-main.pdf\n",
      "2020-11-13  15:45           889 591 1-s2.0-S0006899318304050-main.pdf\n",
      "2020-11-02  15:08         2 588 429 1-s2.0-S1053811911012092-main.pdf\n",
      "2020-11-01  12:03           561 202 1-s2.0-S1364661312002008-main.pdf\n",
      "2021-02-22  22:51            23 474 20089410_20096210_20120826_20128462_Travail1_PSY6028.docx\n",
      "2021-04-16  23:00           235 364 20096210_20089410_20128462_20120826_Travail2_PSY6028.pdf\n",
      "2020-11-05  15:09           552 928 2017-12911-001.pdf\n",
      "2021-01-24  22:44           304 973 2018-41168-001.pdf\n",
      "2021-01-24  22:44           362 793 2018-50198-001.pdf\n",
      "2021-02-22  17:44           814 574 2020-32759-001.pdf\n",
      "2021-01-21  18:09           187 842 35609-lettre-dappui-du-directeur-ou-la-directrice-recherche (1).pdf\n",
      "2021-01-21  21:19           188 297 35609-lettre-dappui-du-directeur-ou-la-directrice-recherche (2).pdf\n",
      "2021-01-21  22:06           134 854 35609-lettre-dappui-du-directeur-ou-la-directrice-recherche (3).pdf\n",
      "2021-01-21  12:18            82 186 35609-lettre-dappui-du-directeur-ou-la-directrice-recherche.pdf\n",
      "2020-10-27  08:59         1 248 261 9-Premierscourants.pdf\n",
      "2020-10-27  08:53         2 656 166 9-Premierscourants.pptx\n",
      "2021-02-25  22:58            28 737 À savoir par coeur.docx\n",
      "2021-04-11  20:29           620 675 AC_LIGHT.png\n",
      "2021-03-12  17:15         3 219 504 Acrobat_DC_Set-Up.exe\n",
      "2021-03-29  12:27           158 073 AdmRapDraLot.pdf\n",
      "2021-01-15  15:54         2 481 942 affiche-à-imprimer.pptx\n",
      "2021-02-25  12:59        30 418 003 alaintardif-af4cb9.zip\n",
      "2021-02-16  12:55       479 396 152 Anaconda3-2020.11-Windows-x86_64.exe\n",
      "2020-11-24  09:44         2 002 616 analyse article_botvinik_nezer_2020.pdf\n",
      "2021-01-30  22:18            18 246 annexe5_moira.docx\n",
      "2020-11-08  19:39        23 324 778 APB_presentation_neuroimaging_course_2020_zoom_1.pdf\n",
      "2020-11-08  19:40        39 899 131 APB_presentation_neuroimaging_course_2020_zoom_2.pdf\n",
      "2021-03-16  12:31            32 296 Apprentissage_Supervisé_Vs_Non_Supervisé.png\n",
      "2020-10-29  08:55    <DIR>          ASD-study-PCOMPBIOL (2)\n",
      "2020-10-28  12:29           783 692 Bartlettpreliminaryversion.pdf\n",
      "2021-01-23  17:38           123 819 Bessenoff-Snow2006_Article_AbsorbingSocietySInfluenceBody.pdf\n",
      "2021-04-01  13:11            54 201 bias_variance_high_low.JPG\n",
      "2021-04-01  13:11            32 329 biasvariance_graph.png\n",
      "2021-04-13  12:36            86 319 bonne_pratique.ipynb\n",
      "2020-10-28  17:56            28 741 Book-review-V1.docx\n",
      "2020-11-23  17:40         1 298 134 botvinik_nezer_2020.pdf\n",
      "2021-03-05  11:45       114 242 596 BrainUs (1).7z\n",
      "2021-02-17  13:28       114 047 154 BrainUs.7z\n",
      "2021-01-27  11:48        16 237 170 Btw_afd_datatable (1).jasp\n",
      "2021-01-27  11:46        16 237 170 Btw_afd_datatable.jasp\n",
      "2021-01-27  12:16         1 605 531 Btw_fa_datatable.jasp\n",
      "2020-11-02  10:14         2 298 497 ca32aa0b-3b3d-423a-a657-6fb3dc8aca25.pdf\n",
      "2021-03-15  23:54         3 838 204 Carnet-de-terrain.docx\n",
      "2021-02-08  21:58             2 705 Cars93_miss.csv\n",
      "2021-01-31  00:54            29 061 CCV-LisaneMoses (1).pdf\n",
      "2020-11-25  17:08            35 958 CCV-LisaneMoses.pdf\n",
      "2020-11-30  17:57            35 805 CCV-LisaneMoses-BESC-maîtrise.pdf\n",
      "2021-03-12  18:21           585 729 Certificat de naissance[4435].pdf\n",
      "2021-04-19  10:02         2 445 251 ch10.ipynb\n",
      "2021-04-19  12:18            23 505 ch11.ipynb\n",
      "2021-04-13  10:46            64 191 ch12.ipynb\n",
      "2021-01-27  12:41        16 461 851 Cl_afd_datatable (1).jasp\n",
      "2021-01-27  12:39        16 461 851 Cl_afd_datatable.jasp\n",
      "2021-01-27  13:03        16 548 232 Cl_fa_datatable.jasp\n",
      "2021-04-25  11:37           378 104 Classification Trees.ipynb\n",
      "2021-01-28  12:51           321 113 cognitively effortful.pdf\n",
      "2021-01-28  13:46           820 834 comparaison avec des femmes plus belle augmente les body image concerns.pdf\n",
      "2020-10-31  15:01           243 979 Comparative_evaluation_of_the_white_matter_fiber.13.pdf\n",
      "2020-11-12  11:58           445 294 Contrat de marge de crédit à taux variable.pdf\n",
      "2021-02-09  11:26         1 734 231 contrats_conseil_agglomeration.csv\n",
      "2020-11-05  16:01         1 437 034 Cours 1 critères diagnostiques 2020.pdf\n",
      "2021-01-26  11:23        14 184 497 COURS 1_CARRIERE CHERCHEUR_2021.pdf\n",
      "2020-11-24  14:00         8 321 571 Cours 10.pdf\n",
      "2020-12-01  11:00        49 202 390 Cours 11.pdf\n",
      "2020-11-23  11:05         2 224 736 cours 11_ reproductibilité et controverses.pdf\n",
      "2020-12-08  12:22        25 395 708 Cours 12.pdf\n",
      "2020-11-13  21:22           296 646 Cours 2 caractéristiques des TSA.pdf\n",
      "2021-01-26  11:23        20 437 225 COURS 2_SCIENCE  PSEUDOSCIENCE_2021.pdf\n",
      "2020-11-21  09:57           649 641 Cours 3 Le diagnostic différentiel 2020.pdf\n",
      "2021-02-02  14:01        16 292 987 cours 3_mode diapos.pdf\n",
      "2020-11-27  14:10           696 726 Cours 4 prévalence et causes 2020.pdf\n",
      "2021-02-09  13:31        21 878 428 COURS 4_HISTOIRE  CRISE RPD_2021_format diapos.pdf\n",
      "2020-12-04  19:59         1 376 178 cours 5. outils diagnostique 2020.pdf\n",
      "2021-02-16  14:02        21 413 624 COURS 5_QRPs_version diapos.pdf\n",
      "2020-12-11  15:03           679 467 Cours 6 outils dévaluation 2 2020.pdf\n",
      "2020-10-26  13:04         7 589 072 Cours 6_Diapo.pdf\n",
      "2020-10-26  13:03         8 576 048 Cours 6_Diapo.pptx\n",
      "2020-11-02  15:53        39 474 099 Cours 7_2020.pdf\n",
      "2020-11-17  12:11         5 662 848 Cours 9 .pdf\n",
      "2020-11-08  19:27        63 292 720 cours 9 TEP - diapositives.pdf\n",
      "2020-10-26  17:34         5 069 179 cours_dmri_PSY3018_1slide.pdf\n",
      "2021-01-18  12:02         3 334 056 cours1.pdf\n",
      "2020-11-16  19:09         1 820 073 cours10_cartes statistiques.pdf\n",
      "2021-03-01  16:51            59 754 CV.docx\n",
      "2021-03-10  14:17            21 860 datasets_economics.csv\n",
      "2021-03-10  15:53         1 352 704 datasets_economics_income.csv\n",
      "2021-03-05  12:01               925 datasets_education_College_README.txt\n",
      "2021-03-05  11:41             1 392 datasets_poitics_USArrests (1).csv\n",
      "2021-03-05  11:41             1 392 datasets_poitics_USArrests.csv\n",
      "2021-03-05  11:43             6 304 datasets_psy_UCIHAR  (Human activity recognition) Dataset_README.txt\n",
      "2021-03-25  20:30         5 539 328 default of credit card clients.xls\n",
      "2021-03-27  13:15            64 237 Demande d'admission (1).pdf\n",
      "2021-01-21  12:33            64 252 Demande d'admission.pdf\n",
      "2020-11-16  14:00           913 601 Demande d'assurance - Assurance marge de crédit - Signature(s) sur 1 section.pdf\n",
      "2020-11-12  11:51            67 557 Demande de crédit.pdf\n",
      "2021-02-23  10:00            47 906 deux_lignes.png\n",
      "2020-10-30  11:08            65 911 Devoir1_2020 (1).pdf\n",
      "2020-10-30  11:39            65 911 Devoir1_2020 (2).pdf\n",
      "2020-10-30  15:00            65 911 Devoir1_2020 (3).pdf\n",
      "2020-10-30  15:00           622 495 Devoir1_article_Brown2011 (1).pdf\n",
      "2020-11-16  19:29            24 852 Devoir2_Votrenomdefamille.docx\n",
      "2020-10-30  14:59           108 438 DevoirPSY3018_moses_lisane (1).pdf\n",
      "2020-11-10  09:47           108 438 DevoirPSY3018_moses_lisane (2).pdf\n",
      "2020-10-30  11:21           108 438 DevoirPSY3018_moses_lisane.pdf\n",
      "2021-01-28  13:18           702 912 différence fille garçons dans l'utilisation problématique des médias sociaux.pdf\n",
      "2021-03-12  12:02           789 693 Directives et ressources pour le Travail #2 -20210312.zip\n",
      "2021-03-12  12:02           790 826 Documents pour les étudiants\n",
      "2021-04-11  20:34            63 391 Download premium vector of Colorful flowers on a green background vector.jfif\n",
      "2021-04-26  15:10    <DIR>          Druide_Téléchargement\n",
      "2021-04-27  12:04         1 115 257 economics_income.csv\n",
      "2021-04-27  12:02         2 006 016 economics_income.xls\n",
      "2021-03-12  17:41         1 837 486 EntenteStage_2021_FR.pdf\n",
      "2021-02-10  14:07         4 943 747 E´thique de la recherche.pdf\n",
      "2021-02-10  14:06         8 037 118 E´thique de la recherche.pptx\n",
      "2021-02-22  13:44            34 262 Éval1-Prise2.ipynb\n",
      "2021-02-06  11:58             2 042 évaluation_exemple.ipynb\n",
      "2021-04-24  09:29            17 733 Exam_final_2021 (1).docx\n",
      "2021-04-25  19:00            17 733 Exam_final_2021 (2).docx\n",
      "2021-04-22  17:53            17 733 Exam_final_2021.docx\n",
      "2021-04-26  16:29            39 472 Exam_final_psy3088_LisaneMoses.docx\n",
      "2021-04-26  16:29            38 963 Exam_final_psy3088_MRB.docx\n",
      "2020-11-27  14:10            13 820 Exemple de question dexamen  (2).docx\n",
      "2021-04-13  12:36            66 045 exemple_analyse_données.png\n",
      "2021-03-10  18:46            51 594 exemple_plan.pptx\n",
      "2021-03-15  23:32           947 340 exemple_plan_Meriem.pptx\n",
      "2021-03-14  20:09            59 038 exemple_plan_version14mars.pptx\n",
      "2021-04-02  14:08           305 859 Exemple_Subvention_LUPIEN_PSY6028 (1).pdf\n",
      "2021-04-02  22:52           305 859 Exemple_Subvention_LUPIEN_PSY6028 (2).pdf\n",
      "2021-04-03  21:34           305 859 Exemple_Subvention_LUPIEN_PSY6028 (3).pdf\n",
      "2021-03-12  12:04           305 859 Exemple_Subvention_LUPIEN_PSY6028.pdf\n",
      "2020-10-27  09:54           133 724 exercices_connectivite_irmf.pdf\n",
      "2020-12-01  10:56           130 113 exercices_cours10_cartes_statistiques.pdf\n",
      "2020-12-01  10:56           129 612 exercices_cours11_reproductibilite.pdf\n",
      "2020-11-03  09:37           116 194 exercices_cours7_irm_diffusion.pdf\n",
      "2020-11-10  08:45           117 236 exercices_cours8_imagerie_optique.pdf\n",
      "2020-11-24  10:59           116 535 exercices_cours9_tep.pdf\n",
      "2021-03-30  11:10        54 855 612 Export 20200310.zip\n",
      "2021-03-12  17:48           450 565 f4d4fbf3-46e6-406a-8e90-7f23f4be17e9.pdf\n",
      "2021-03-15  18:04            39 216 Fichiers.zip\n",
      "2020-10-28  12:11           402 632 fnhum-06-00006.pdf\n",
      "2021-04-12  19:59            22 955 Formulaire Demande de subvention copie (1).docx\n",
      "2021-04-02  14:09            22 955 Formulaire Demande de subvention copie.docx\n",
      "2021-03-15  12:43           254 297 FormulaireCovid19_signé.pdf\n",
      "2021-02-03  15:02           794 332 Formulaire-de-consentement.pdf\n",
      "2021-03-12  12:04            22 955 Formulaire-Demande-de-subvention-copie.docx\n",
      "2021-04-09  08:55         1 322 563 fpsyt-12-519840.pdf\n",
      "2007-06-29  12:02             2 792 GPower Read Me.rtf\n",
      "2020-03-17  13:32    <DIR>          GPower_3.1.9.7\n",
      "2020-03-17  13:30         6 074 368 GPowerSetup.msi\n",
      "2021-04-09  14:45    <DIR>          GPowerWin_3.1.9.7 (1)\n",
      "2021-04-09  14:43        13 389 745 GPowerWin_3.1.9.7 (1).zip\n",
      "2021-04-09  14:39        13 389 745 GPowerWin_3.1.9.7.zip\n",
      "2021-03-23  10:26           144 625 GPS_Midterm_Writing_Exam.docx\n",
      "2021-04-17  12:00            10 060 heart-disease.names\n",
      "2021-01-21  13:43       106 649 858 hors_chap_influence_quete_sens_1565717848 (1).pdf\n",
      "2021-01-21  13:43       106 649 858 hors_chap_influence_quete_sens_1565717848.pdf\n",
      "2021-04-26  23:40           172 208 Hypothesis_testing_projet_final_MeriemBadri_LisaneMoses.ipynb\n",
      "2021-04-26  20:57           172 208 Hypothesis_testing_projet_final-1.ipynb\n",
      "2020-11-05  16:01           194 226 IDI1040-A_A2020_pc_Bernard_S_final.pdf\n",
      "2021-02-01  14:43         1 746 785 ilovepdf_merged.pdf\n",
      "2020-11-21  15:06            14 049 Informations pour analyser les vignettes cliniques et exemple de question dexamen.docx\n",
      "2007-02-15  08:38               781 Installation.txt\n",
      "2021-03-25  20:29             4 551 iris.data\n",
      "2021-01-28  12:49         1 589 346 Is plus size equal The positive impact of average and plus sized media fashion models on women s cognitive resource allocation social comparisons and.pdf\n",
      "2021-02-04  11:49            82 496 Jasp Output _ Sensory - network.xlsx\n",
      "2021-01-20  16:02       332 992 512 JASP-0.14.1-64bit.msi\n",
      "2020-10-28  12:48         7 901 190 Journaux revue (1).pptx\n",
      "2020-10-28  12:49         5 210 297 Journaux revue.pdf\n",
      "2020-10-28  12:48         7 901 190 Journaux revue.pptx\n",
      "2020-11-10  11:52       118 737 554 Juster_2020_HB.pdf\n",
      "2020-11-10  12:29         6 955 621 Juster_2020_HB-compressé.pdf\n",
      "2021-03-23  12:29            27 409 knn_explanation.JPG\n",
      "2021-03-23  12:29            44 667 knn_explanation2.JPG\n",
      "2021-02-09  12:32            28 642 lab1 (1).ipynb\n",
      "2021-02-09  12:32            28 642 lab1.ipynb\n",
      "2020-11-03  09:36           714 686 LauraCaronDesrochers_ImagerieOptique-3nov2020-sansimages.pdf\n",
      "2021-03-23  12:29            88 747 lda_pca.png\n",
      "2021-01-16  17:07            76 075 Lettre-de-Reference-Lisane.pdf\n",
      "2021-04-08  14:59            19 261 Lettre-nomination-MB.docx\n",
      "2020-12-12  18:23            15 614 Lien pour avoir accès aux cours enregistrés (1).docx\n",
      "2020-12-09  14:17            15 614 Lien pour avoir accès aux cours enregistrés.docx\n",
      "2021-02-23  10:00            34 721 ligne.png\n",
      "2021-04-27  11:31         1 152 359 Machine_learning_projetfinal_MeriemBadri_LisaneMoses.ipynb\n",
      "2021-04-01  13:11            28 982 maison1.jpg\n",
      "2021-04-01  13:11           124 814 maison2.png\n",
      "2020-11-13  18:13           448 358 Masi2017_Article_AnOverviewOfAutismSpectrumDiso.pdf\n",
      "2021-03-12  16:02       237 611 648 matlab_R2021a_win64.exe\n",
      "2021-01-19  09:30             2 742 meeting-91507301961 (1).ics\n",
      "2021-02-16  11:11             2 843 meeting-91507301961 (2).ics\n",
      "2021-02-16  11:54             2 843 meeting-91507301961 (3).ics\n",
      "2021-04-13  09:48             2 841 meeting-91507301961 (4).ics\n",
      "2021-04-13  09:48             2 841 meeting-91507301961 (5).ics\n",
      "2021-04-13  09:48             2 841 meeting-91507301961 (6).ics\n",
      "2021-01-19  09:30             2 742 meeting-91507301961.ics\n",
      "2021-02-20  21:23       100 870 408 Messenger.91.5.119.exe\n",
      "2021-01-27  13:56         5 671 832 Mesurer la recherche.pdf\n",
      "2021-01-27  13:56        12 026 043 Mesurer la recherche.pptx\n",
      "2021-04-11  20:50            37 076 miesiace.jfif\n",
      "2021-03-16  12:31         3 029 720 ML_prediction_potential_Bzdok.png\n"
     ]
    },
    {
     "name": "stdout",
     "output_type": "stream",
     "text": [
      "2021-01-30  21:50           296 372 Moïra_Rault-Bélisle_Annexe_5.pdf\n",
      "2021-04-26  14:01            28 664 Moïra_Rault-Bélisle_Exam_final_2021 (1).docx\n",
      "2021-04-26  13:53            33 914 Moïra_Rault-Bélisle_Exam_final_2021.docx\n",
      "2021-04-26  13:53            33 906 Moïra_Rault-Bélisle_Exam_final_2021_LM.docx\n",
      "2021-03-18  10:38            39 974 Moses_AC.docx\n",
      "2020-12-01  18:12           369 302 Moses_Lisane_CGSM_2021 (1).pdf\n",
      "2020-12-01  18:09           369 797 Moses_Lisane_CGSM_2021.pdf\n",
      "2020-11-08  15:27           279 929 neu.2020.7170.pdf\n",
      "2021-04-24  10:10         6 090 792 Neurosciences politiques_UdeM 2020 (1).pptx\n",
      "2021-03-15  13:34         6 090 792 Neurosciences politiques_UdeM 2020.pptx\n",
      "2020-12-12  19:45           384 048 nrn2639.pdf\n",
      "2021-02-02  14:33             2 013 numpy_1x3x1.png\n",
      "2021-02-02  14:33             1 821 numpy_3x1x1.png\n",
      "2021-02-02  14:33            13 242 numpy_5x5x1.png\n",
      "2021-02-02  14:33            25 327 numpy_5x5x3.png\n",
      "2021-02-02  14:33            27 928 numpy_vstack_hstack.png\n",
      "2021-04-01  09:11         2 825 532 OneDrive_1_01-04-2021.zip\n",
      "2021-02-02  09:33            70 979 OneDrive_1_02-02-2021.zip\n",
      "2021-04-13  08:36           260 371 OneDrive_1_13-04-2021.zip\n",
      "2021-03-16  08:31         3 704 377 OneDrive_1_16-03-2021.zip\n",
      "2021-04-17  22:28           365 739 OneDrive_1_17-04-2021.zip\n",
      "2021-04-18  08:42     2 070 469 466 OneDrive_1_18-04-2021.zip\n",
      "2021-03-23  08:29         2 289 769 OneDrive_1_23-03-2021.zip\n",
      "2021-04-01  09:11         2 825 532 OneDrive_2_01-04-2021.zip\n",
      "2021-04-02  14:09            71 244 Organisme de financement_2021[63].docx\n",
      "2021-03-12  12:04            71 244 Organisme-de-financement_202163.docx\n",
      "2021-04-23  13:04         1 563 005 oxfordhb-9780199337538-e-5.pdf\n",
      "2021-04-08  13:40         1 083 858 pcbi.1003992.s001.pdf\n",
      "2021-04-11  20:48           323 824 photo scrapbook collage (1).jfif\n",
      "2021-04-11  20:39           323 824 photo scrapbook collage.jfif\n",
      "2021-03-23  12:29             3 675 plotting_help.py\n",
      "2021-01-11  14:21           209 094 PreuveReception-(UQO20213-3213).pdf\n",
      "2021-04-17  12:03            18 461 processed.cleveland (1).data\n",
      "2021-04-17  11:59            18 461 processed.cleveland.data\n",
      "2021-04-23  19:04            38 474 Projet_final.ipynb\n",
      "2021-04-23  19:05            38 474 Projet_final-Copy1.ipynb\n",
      "2021-04-27  10:00         1 101 918 Projet_final-Copy2.ipynb\n",
      "2021-03-14  19:08           723 222 projetprog.xlsx\n",
      "2021-01-26  09:31           566 361 projinfrarechrapprou20200527.csv\n",
      "2021-01-26  11:22           650 192 PSY_6028G_plan_cours_15_01_2020.pdf\n",
      "2020-11-10  17:01         1 619 165 PSY3036_PK_.pdf\n",
      "2020-11-10  17:01        10 610 129 PSY3036_PK_.pptx\n",
      "2021-01-26  09:30            41 828 PSY4016_6973-G-H21_ch02.ipynb\n",
      "2021-02-02  09:31           167 059 PSY4016_6973-G-H21_ch03.ipynb\n",
      "2021-02-09  09:17            32 353 PSY4016_6973-G-H21_ch04.ipynb\n",
      "2021-02-16  09:39         3 956 265 PSY4016_6973-G-H21_ch05.ipynb\n",
      "2021-02-25  22:20             9 484 PSY4016_6973-G-H21_ch06.ipynb\n",
      "2021-03-09  09:33           283 763 PSY4016_6973-G-H21_ch07.ipynb\n",
      "2021-03-16  12:31           575 716 PSY4016_6973-G-H21_ch08.ipynb\n",
      "2021-03-23  12:29         2 037 789 PSY4016_6973-G-H21_ch09.ipynb\n",
      "2021-02-23  12:31           157 932 PSY4016_6973-G-H21_éval2 (1).ipynb\n",
      "2021-02-23  10:00             6 291 PSY4016_6973-G-H21_éval2.ipynb\n",
      "2021-02-23  10:00             6 291 PSY4016_6973-G-H21_éval2_1.ipynb\n",
      "2021-03-16  12:31             1 454 PSY4016_reg_lin_1var.txt\n",
      "2021-02-08  21:58             8 170 PSY4016-G-H20_Lab1.ipynb\n",
      "2021-04-16  15:08           163 870 Psychometric properties.pdf\n",
      "2021-01-15  17:31        28 204 528 python-3.9.1-amd64.exe\n",
      "2021-01-27  22:42           133 618 qart-2021-application-form_-en (1).docx\n",
      "2021-01-31  00:13           143 796 qart-2021-application-form_-en.docx\n",
      "2021-02-01  00:26           153 616 qart-2021-application-form_-en_finished.docx\n",
      "2021-01-27  22:21            33 079 qart-2021-referee-form_-en.docx\n",
      "2020-10-29  18:23           141 518 QUEBEC_COVID_RAW.sav\n",
      "2020-12-10  09:55        88 237 960 R-4.0.3-win.exe\n",
      "2021-04-14  09:14           251 278 Rapport (1).docx\n",
      "2020-11-04  14:43         1 762 265 Rapport de´tape .pdf\n",
      "2020-11-04  14:43         2 143 499 Rapport de´tape .pptx\n",
      "2021-04-11  23:26           252 924 Rapport.docx\n",
      "2021-04-26  20:57           656 381 Rapport_prog.docx\n",
      "2021-04-27  11:57           657 654 Rapport_prog_MeriemBadri_LisaneMoses.docx\n",
      "2020-11-30  17:11         2 216 880 RapportHonor_A2020.docx\n",
      "2021-04-14  08:59         2 381 754 RapportHonor_H2021_MRB (1).docx\n",
      "2021-04-14  08:56         2 381 754 RapportHonor_H2021_MRB.docx\n",
      "2021-04-22  17:49           149 204 Reasearch proposal_Lmoses.pdf\n",
      "2021-03-16  12:31            11 275 régression_linéaire_flowchart.png\n",
      "2021-02-08  19:48        87 469 566 RelevéNoteLisane.pdf\n",
      "2021-02-08  19:54        10 056 097 RelevéNoteLisane_compressed (1).pdf\n",
      "2021-02-08  19:52        10 056 097 RelevéNoteLisane_compressed.pdf\n",
      "2021-02-10  14:07         3 965 034 Re´sultats et Discussion.pdf\n",
      "2021-02-10  14:06         6 170 315 Re´sultats et Discussion.pptx\n",
      "2021-02-10  12:16         1 833 808 review social media and body image 2019.pdf\n",
      "2021-01-28  12:54           183 465 review social media.pdf\n",
      "2021-01-28  13:37           409 616 Rodgers2014_Article_ABiopsychosocialModelOfBodyIma.pdf\n",
      "2021-01-28  13:35           672 536 Rodgers2020_Article_ABiopsychosocialModelOfSocialM.pdf\n",
      "2020-12-10  09:42       171 619 768 RStudio-1.3.1093 (1).exe\n",
      "2020-12-10  10:04       171 619 768 RStudio-1.3.1093 (2).exe\n",
      "2020-12-10  09:37       171 619 768 RStudio-1.3.1093.exe\n",
      "2020-12-10  10:59       132 205 064 rtools40-x86_64.exe\n",
      "2020-10-28  12:17         3 606 442 s41583-019-0179-4.pdf\n",
      "2021-04-13  12:36            43 525 schema_pratique.png\n",
      "2021-02-10  13:34           381 414 selfie-engagement.pdf\n",
      "2020-12-11  15:02            28 735 Services en TSA.docx\n",
      "2020-12-11  15:05            91 445 Services en TSA.pdf\n",
      "2020-03-17  13:30           415 232 setup.exe\n",
      "2021-02-07  00:17             9 400 SG-btwafd-pvalues.xlsx\n",
      "2021-02-07  01:06             9 498 SG-btwfa-pvalues.xlsx\n",
      "2021-02-07  01:15             9 299 SG-clafd-pvalues.xlsx\n",
      "2021-02-07  01:21            10 792 SG-clfa-pvalues.xlsx\n",
      "2021-02-07  01:25             9 315 SG-strafd-pvalues.xlsx\n",
      "2021-02-07  01:29             9 788 SG-strfa-pvalues.xlsx\n",
      "2021-04-22  18:08        12 612 531 Social_Neuro_class_1_student (1).pptx\n",
      "2021-04-24  09:32        12 612 531 Social_Neuro_class_1_student (2).pptx\n",
      "2021-01-18  11:59        12 612 531 Social_Neuro_class_1_student.pptx\n",
      "2021-01-25  15:02         5 681 002 Social_Neuro_class_2_student.pdf\n",
      "2021-01-25  15:01        42 127 864 Social_Neuro_class_2_student.pptx\n",
      "2021-02-01  15:21         4 686 677 Social_Neuro_class_3_student.pdf\n",
      "2021-02-01  15:20        28 945 260 Social_Neuro_class_3_student.pptx\n",
      "2021-02-15  14:02         3 378 023 Social_Neuro_class_4_students.pdf\n",
      "2021-02-15  14:02        20 226 632 Social_Neuro_class_4_students.pptx\n",
      "2021-04-26  14:54        17 423 521 Social_Neuro_class_5_students (1).pptx\n",
      "2021-02-22  14:06        17 423 592 Social_Neuro_class_5_students.pptx\n",
      "2021-04-24  09:57         5 594 070 Social_Neuro_class_6_student_2 (1).pptx\n",
      "2021-04-24  17:03         1 031 519 Social_Neuro_class_6_student_2.pdf\n",
      "2021-04-24  09:47         5 594 070 Social_Neuro_class_6_student_2.pptx\n",
      "2021-04-24  09:50         9 520 396 Social_Neuro_class_6_students (1).pptx\n",
      "2021-03-08  14:51         9 520 396 Social_Neuro_class_6_students.pptx\n",
      "2021-04-24  10:10        20 657 983 Social_Neuro_class_7_students (1).pptx\n",
      "2021-04-24  17:04         4 049 269 Social_Neuro_class_7_students.pdf\n",
      "2021-04-24  09:57        20 657 983 Social_Neuro_class_7_students.pptx\n",
      "2020-10-29  18:23            13 854 Sortie1.spv\n",
      "2021-01-27  13:58           541 758 Statistical mistakes.pdf\n",
      "2021-01-23  23:31        16 526 102 Str_afd_datatable (1).jasp\n",
      "2021-01-23  11:59        16 526 102 Str_afd_datatable.jasp\n",
      "2021-01-23  22:59        27 354 249 Str_fa_datatable.jasp\n",
      "2020-10-30  09:18         1 098 497 Synchro Académique_ Ajout de cours.pdf\n",
      "2021-02-19  20:47            99 465 Tableau_comparaison_liste_tuple.png\n",
      "2021-01-29  14:17            19 461 tables - associative areas (1).xlsx\n",
      "2021-01-29  13:18            19 461 tables - associative areas.xlsx\n",
      "2021-01-29  14:32            17 959 Tables - auditory system.xlsx\n",
      "2021-01-29  14:57            14 596 Tables - somatosensory system.xlsx\n",
      "2021-02-04  11:49            45 019 Tables_detailednodalresults_sensorynetwork.xlsx\n",
      "2021-01-23  11:57            52 562 Tables_detailednodalresults_whole-brainnetwork.xlsx\n",
      "2021-04-26  23:24        72 856 320 TCGA-PANCAN-HiSeq-801x20531.tar.gz\n",
      "2021-04-11  20:31           331 583 téléchargement.jfif\n",
      "2021-02-17  12:29           397 959 Test_des_couleurs.pdf\n",
      "2021-03-15  18:11           170 847 tmp_7516412.pdf\n",
      "2021-03-05  11:52           246 806 TomProject (1).7z\n",
      "2021-03-12  10:17           246 795 TomProject (2).7z\n",
      "2021-02-17  13:28           246 795 TomProject.7z\n",
      "2021-04-09  15:07           389 484 TQMP--2007--Mayr-et-al.-A-short-tutorial-of-GPower-.pdf\n",
      "2021-03-16  12:31            52 972 trade_off_bias.JPG\n",
      "2021-04-04  15:07           507 311 Travail 2 - instructions (1).pdf\n",
      "2021-04-02  14:09           507 311 Travail 2 - instructions.pdf\n",
      "2021-04-16  16:58            22 844 Travail-2.docx\n",
      "2021-03-12  12:03           507 311 Travail-2-instructions.pdf\n",
      "2021-03-30  13:36     1 855 683 206 UdeM_P119347063483_0808328797896698172542616824_SPSS2764.exe\n",
      "2021-03-30  13:57     1 855 683 206 UdeM_P119347072611_0808339797896698154542616824_SPSS2764.exe\n",
      "2021-03-30  14:08     1 185 851 604 UdeM_P119347079695_0808346797896698097542616824_SPSS2664.exe\n",
      "2021-03-30  14:20       698 583 503 UdeM_P119347084791_0808352797896698083542616824_SPSS2532.EXE\n",
      "2021-03-30  14:29           318 624 UdeM_P119347086723_0808354797896698070542616824_SPSSLicC2021.EXE\n",
      "2021-03-30  14:36     1 185 851 604 UdeM_P119347087535_0808355797896698069542616824_SPSS2664.exe\n",
      "2021-04-11  20:57           182 252 UMSF_RL8.pdf\n",
      "2021-04-11  20:57           126 420 UMSF_T2202.pdf\n",
      "2020-10-28  12:49           682 222 Un bon PowerPoint_2018.pdf\n",
      "2020-10-28  12:48           493 818 Un bon PowerPoint_2018.pptx\n",
      "2021-01-22  15:02           108 302 UQO-Lettre de recommendation-Lisane Moses-faceaface.pdf\n",
      "2021-01-28  13:33           374 418 utilisation de self-disclaimers  effet sur le body image.pdf\n",
      "2020-11-02  19:56         2 569 176 Vannasing2016.pdf\n",
      "2021-04-01  13:11            97 630 variance.png\n",
      "2020-03-17  13:32    <DIR>          vcredist_x86\n",
      "2021-04-18  12:41         5 624 023 vid_ch11_partie3.mp4\n",
      "2021-04-18  12:41       109 956 656 vid_ch12_partie1.mp4\n",
      "2021-04-18  12:41       104 742 523 vid_ch12_partie2.mp4\n",
      "2021-04-18  12:42       117 887 130 vid_ch12_partie3.mp4\n",
      "2020-11-05  16:26            48 640 Vignette Clinique 2019 Pierre (1).doc\n",
      "2020-11-06  21:52            48 640 Vignette Clinique 2019 Pierre (2).doc\n",
      "2020-11-07  13:43            48 640 Vignette Clinique 2019 Pierre (3).doc\n",
      "2020-12-05  16:42            43 008 Vignette Clinique 2019 Pierre (4) corrigée.doc\n",
      "2020-11-08  10:47            42 496 Vignette Clinique 2019 Pierre (4).doc\n",
      "2020-11-07  17:26            48 640 Vignette Clinique 2019 Pierre (5).doc\n",
      "2020-11-05  16:01            48 640 Vignette Clinique 2019 Pierre.doc\n",
      "2020-12-19  10:24            32 256 Vignette Clinique Laurent 2020 (1).doc\n",
      "2020-11-21  14:26            32 256 Vignette Clinique Laurent 2020.doc\n",
      "2021-02-17  13:29       114 294 234 wetransfer-3ba2de.zip\n",
      "2021-02-20  21:26         1 068 907 When you’re smiling, the whole world really does smile with you - News and events - University of South Australia.pdf\n",
      "2021-02-20  21:30         1 068 907 When-youre-smiling-the-whole-world-really-does-smile-with-you-News-and-events-University-of-South-Australia.pdf\n",
      "2020-03-17  13:32    <DIR>          WindowsInstaller3_1\n",
      "2021-03-30  11:55             1 265 write_struct_tree_to_Excel.m\n",
      "             402 fichier(s)   13 112 245 804 octets\n",
      "              10 Rép(s)  33 948 864 512 octets libres\n"
     ]
    }
   ],
   "source": [
    "ls"
   ]
  },
  {
   "cell_type": "markdown",
   "metadata": {
    "id": "YmsbA90pLS10"
   },
   "source": [
    "# **Import Libraries**"
   ]
  },
  {
   "cell_type": "code",
   "execution_count": 1,
   "metadata": {
    "id": "MQSw-X9FLVXr"
   },
   "outputs": [],
   "source": [
    "import pandas as pd\n",
    "import numpy as np\n",
    "import matplotlib.pyplot as plt\n",
    "import matplotlib\n",
    "from scipy import stats\n",
    "%matplotlib inline\n",
    "matplotlib.rcParams.update({'font.size': 10})\n"
   ]
  },
  {
   "cell_type": "markdown",
   "metadata": {
    "id": "9GXVNukGLcEr"
   },
   "source": [
    "# **Read and Put some Info on Data**"
   ]
  },
  {
   "cell_type": "code",
   "execution_count": 9,
   "metadata": {
    "id": "uVxzOZKKLeok"
   },
   "outputs": [
    {
     "data": {
      "text/html": [
       "<div>\n",
       "<style scoped>\n",
       "    .dataframe tbody tr th:only-of-type {\n",
       "        vertical-align: middle;\n",
       "    }\n",
       "\n",
       "    .dataframe tbody tr th {\n",
       "        vertical-align: top;\n",
       "    }\n",
       "\n",
       "    .dataframe thead th {\n",
       "        text-align: right;\n",
       "    }\n",
       "</style>\n",
       "<table border=\"1\" class=\"dataframe\">\n",
       "  <thead>\n",
       "    <tr style=\"text-align: right;\">\n",
       "      <th></th>\n",
       "      <th>INCOME</th>\n",
       "      <th>SEX</th>\n",
       "      <th>MARITAL.STATUS</th>\n",
       "      <th>AGE</th>\n",
       "      <th>EDUCATION</th>\n",
       "      <th>OCCUPATION</th>\n",
       "      <th>AREA</th>\n",
       "      <th>DUAL.INCOMES</th>\n",
       "      <th>HOUSEHOLD.SIZE</th>\n",
       "      <th>UNDER18</th>\n",
       "      <th>HOUSEHOLDER</th>\n",
       "      <th>HOME.TYPE</th>\n",
       "      <th>ETHNIC.CLASS</th>\n",
       "      <th>LANGUAGE</th>\n",
       "    </tr>\n",
       "  </thead>\n",
       "  <tbody>\n",
       "    <tr>\n",
       "      <th>0</th>\n",
       "      <td>[75.000-</td>\n",
       "      <td>F</td>\n",
       "      <td>Married</td>\n",
       "      <td>45-54</td>\n",
       "      <td>1 to 3 years of college</td>\n",
       "      <td>Homemaker</td>\n",
       "      <td>10+ years</td>\n",
       "      <td>No</td>\n",
       "      <td>Three</td>\n",
       "      <td>None</td>\n",
       "      <td>Own</td>\n",
       "      <td>House</td>\n",
       "      <td>White</td>\n",
       "      <td>NaN</td>\n",
       "    </tr>\n",
       "    <tr>\n",
       "      <th>1</th>\n",
       "      <td>[75.000-</td>\n",
       "      <td>M</td>\n",
       "      <td>Married</td>\n",
       "      <td>45-54</td>\n",
       "      <td>College graduate</td>\n",
       "      <td>Homemaker</td>\n",
       "      <td>10+ years</td>\n",
       "      <td>No</td>\n",
       "      <td>Five</td>\n",
       "      <td>Two</td>\n",
       "      <td>Own</td>\n",
       "      <td>House</td>\n",
       "      <td>White</td>\n",
       "      <td>English</td>\n",
       "    </tr>\n",
       "    <tr>\n",
       "      <th>2</th>\n",
       "      <td>[75.000-</td>\n",
       "      <td>F</td>\n",
       "      <td>Married</td>\n",
       "      <td>25-34</td>\n",
       "      <td>College graduate</td>\n",
       "      <td>Professional/Managerial</td>\n",
       "      <td>10+ years</td>\n",
       "      <td>Yes</td>\n",
       "      <td>Three</td>\n",
       "      <td>One</td>\n",
       "      <td>Rent</td>\n",
       "      <td>Apartment</td>\n",
       "      <td>White</td>\n",
       "      <td>English</td>\n",
       "    </tr>\n",
       "    <tr>\n",
       "      <th>3</th>\n",
       "      <td>-10.000)</td>\n",
       "      <td>F</td>\n",
       "      <td>Single</td>\n",
       "      <td>14-17</td>\n",
       "      <td>Grades 9 to 11</td>\n",
       "      <td>Student, HS or College</td>\n",
       "      <td>10+ years</td>\n",
       "      <td>Not Married</td>\n",
       "      <td>Four</td>\n",
       "      <td>Two</td>\n",
       "      <td>Family</td>\n",
       "      <td>House</td>\n",
       "      <td>White</td>\n",
       "      <td>English</td>\n",
       "    </tr>\n",
       "    <tr>\n",
       "      <th>4</th>\n",
       "      <td>-10.000)</td>\n",
       "      <td>F</td>\n",
       "      <td>Single</td>\n",
       "      <td>14-17</td>\n",
       "      <td>Grades 9 to 11</td>\n",
       "      <td>Student, HS or College</td>\n",
       "      <td>4-6 years</td>\n",
       "      <td>Not Married</td>\n",
       "      <td>Four</td>\n",
       "      <td>Two</td>\n",
       "      <td>Family</td>\n",
       "      <td>House</td>\n",
       "      <td>White</td>\n",
       "      <td>English</td>\n",
       "    </tr>\n",
       "    <tr>\n",
       "      <th>...</th>\n",
       "      <td>...</td>\n",
       "      <td>...</td>\n",
       "      <td>...</td>\n",
       "      <td>...</td>\n",
       "      <td>...</td>\n",
       "      <td>...</td>\n",
       "      <td>...</td>\n",
       "      <td>...</td>\n",
       "      <td>...</td>\n",
       "      <td>...</td>\n",
       "      <td>...</td>\n",
       "      <td>...</td>\n",
       "      <td>...</td>\n",
       "      <td>...</td>\n",
       "    </tr>\n",
       "    <tr>\n",
       "      <th>8988</th>\n",
       "      <td>-10.000)</td>\n",
       "      <td>F</td>\n",
       "      <td>Single</td>\n",
       "      <td>14-17</td>\n",
       "      <td>Grade 8 or less</td>\n",
       "      <td>Sales Worker</td>\n",
       "      <td>10+ years</td>\n",
       "      <td>Not Married</td>\n",
       "      <td>Three</td>\n",
       "      <td>Two</td>\n",
       "      <td>Family</td>\n",
       "      <td>House</td>\n",
       "      <td>White</td>\n",
       "      <td>English</td>\n",
       "    </tr>\n",
       "    <tr>\n",
       "      <th>8989</th>\n",
       "      <td>[10.000-15.000)</td>\n",
       "      <td>M</td>\n",
       "      <td>Single</td>\n",
       "      <td>18-24</td>\n",
       "      <td>1 to 3 years of college</td>\n",
       "      <td>Professional/Managerial</td>\n",
       "      <td>10+ years</td>\n",
       "      <td>Not Married</td>\n",
       "      <td>Four</td>\n",
       "      <td>None</td>\n",
       "      <td>Family</td>\n",
       "      <td>House</td>\n",
       "      <td>White</td>\n",
       "      <td>English</td>\n",
       "    </tr>\n",
       "    <tr>\n",
       "      <th>8990</th>\n",
       "      <td>-10.000)</td>\n",
       "      <td>F</td>\n",
       "      <td>Single</td>\n",
       "      <td>14-17</td>\n",
       "      <td>Grades 9 to 11</td>\n",
       "      <td>Professional/Managerial</td>\n",
       "      <td>10+ years</td>\n",
       "      <td>Not Married</td>\n",
       "      <td>Three</td>\n",
       "      <td>Two</td>\n",
       "      <td>Family</td>\n",
       "      <td>House</td>\n",
       "      <td>White</td>\n",
       "      <td>English</td>\n",
       "    </tr>\n",
       "    <tr>\n",
       "      <th>8991</th>\n",
       "      <td>[20.000-25.000)</td>\n",
       "      <td>M</td>\n",
       "      <td>Married</td>\n",
       "      <td>55-64</td>\n",
       "      <td>1 to 3 years of college</td>\n",
       "      <td>Factory Worker/Laborer/Driver</td>\n",
       "      <td>10+ years</td>\n",
       "      <td>Yes</td>\n",
       "      <td>Three</td>\n",
       "      <td>One</td>\n",
       "      <td>Rent</td>\n",
       "      <td>Apartment</td>\n",
       "      <td>White</td>\n",
       "      <td>English</td>\n",
       "    </tr>\n",
       "    <tr>\n",
       "      <th>8992</th>\n",
       "      <td>[30.000-40.000)</td>\n",
       "      <td>M</td>\n",
       "      <td>Single</td>\n",
       "      <td>25-34</td>\n",
       "      <td>1 to 3 years of college</td>\n",
       "      <td>Professional/Managerial</td>\n",
       "      <td>10+ years</td>\n",
       "      <td>Not Married</td>\n",
       "      <td>One</td>\n",
       "      <td>None</td>\n",
       "      <td>Rent</td>\n",
       "      <td>Apartment</td>\n",
       "      <td>Hispanic</td>\n",
       "      <td>English</td>\n",
       "    </tr>\n",
       "  </tbody>\n",
       "</table>\n",
       "<p>8993 rows × 14 columns</p>\n",
       "</div>"
      ],
      "text/plain": [
       "               INCOME SEX MARITAL.STATUS    AGE                EDUCATION  \\\n",
       "0            [75.000-   F        Married  45-54  1 to 3 years of college   \n",
       "1            [75.000-   M        Married  45-54         College graduate   \n",
       "2            [75.000-   F        Married  25-34         College graduate   \n",
       "3            -10.000)   F         Single  14-17           Grades 9 to 11   \n",
       "4            -10.000)   F         Single  14-17           Grades 9 to 11   \n",
       "...               ...  ..            ...    ...                      ...   \n",
       "8988         -10.000)   F         Single  14-17          Grade 8 or less   \n",
       "8989  [10.000-15.000)   M         Single  18-24  1 to 3 years of college   \n",
       "8990         -10.000)   F         Single  14-17           Grades 9 to 11   \n",
       "8991  [20.000-25.000)   M        Married  55-64  1 to 3 years of college   \n",
       "8992  [30.000-40.000)   M         Single  25-34  1 to 3 years of college   \n",
       "\n",
       "                         OCCUPATION       AREA DUAL.INCOMES HOUSEHOLD.SIZE  \\\n",
       "0                         Homemaker  10+ years           No          Three   \n",
       "1                         Homemaker  10+ years           No           Five   \n",
       "2           Professional/Managerial  10+ years          Yes          Three   \n",
       "3            Student, HS or College  10+ years  Not Married           Four   \n",
       "4            Student, HS or College  4-6 years  Not Married           Four   \n",
       "...                             ...        ...          ...            ...   \n",
       "8988                   Sales Worker  10+ years  Not Married          Three   \n",
       "8989        Professional/Managerial  10+ years  Not Married           Four   \n",
       "8990        Professional/Managerial  10+ years  Not Married          Three   \n",
       "8991  Factory Worker/Laborer/Driver  10+ years          Yes          Three   \n",
       "8992        Professional/Managerial  10+ years  Not Married            One   \n",
       "\n",
       "     UNDER18 HOUSEHOLDER  HOME.TYPE ETHNIC.CLASS LANGUAGE  \n",
       "0       None         Own      House        White      NaN  \n",
       "1        Two         Own      House        White  English  \n",
       "2        One        Rent  Apartment        White  English  \n",
       "3        Two      Family      House        White  English  \n",
       "4        Two      Family      House        White  English  \n",
       "...      ...         ...        ...          ...      ...  \n",
       "8988     Two      Family      House        White  English  \n",
       "8989    None      Family      House        White  English  \n",
       "8990     Two      Family      House        White  English  \n",
       "8991     One        Rent  Apartment        White  English  \n",
       "8992    None        Rent  Apartment     Hispanic  English  \n",
       "\n",
       "[8993 rows x 14 columns]"
      ]
     },
     "execution_count": 9,
     "metadata": {},
     "output_type": "execute_result"
    }
   ],
   "source": [
    "df_excel = pd.read_excel(\"economics_income.xls\", header = None)\n",
    "df1 = df_excel.to_csv('economics_income.csv', index = None, header = False)\n",
    "df = pd.read_csv('economics_income.csv')\n",
    "df = df.iloc[:,:]\n",
    "df"
   ]
  },
  {
   "cell_type": "code",
   "execution_count": 10,
   "metadata": {
    "colab": {
     "base_uri": "https://localhost:8080/",
     "height": 326
    },
    "id": "4cDFh2VoLiSu",
    "outputId": "c84ab1f9-747e-4c0b-b53c-009c2fdc5e37"
   },
   "outputs": [
    {
     "data": {
      "text/html": [
       "<div>\n",
       "<style scoped>\n",
       "    .dataframe tbody tr th:only-of-type {\n",
       "        vertical-align: middle;\n",
       "    }\n",
       "\n",
       "    .dataframe tbody tr th {\n",
       "        vertical-align: top;\n",
       "    }\n",
       "\n",
       "    .dataframe thead th {\n",
       "        text-align: right;\n",
       "    }\n",
       "</style>\n",
       "<table border=\"1\" class=\"dataframe\">\n",
       "  <thead>\n",
       "    <tr style=\"text-align: right;\">\n",
       "      <th></th>\n",
       "      <th>INCOME</th>\n",
       "      <th>SEX</th>\n",
       "      <th>MARITAL.STATUS</th>\n",
       "      <th>AGE</th>\n",
       "      <th>EDUCATION</th>\n",
       "      <th>OCCUPATION</th>\n",
       "      <th>AREA</th>\n",
       "      <th>DUAL.INCOMES</th>\n",
       "      <th>HOUSEHOLD.SIZE</th>\n",
       "      <th>UNDER18</th>\n",
       "      <th>HOUSEHOLDER</th>\n",
       "      <th>HOME.TYPE</th>\n",
       "      <th>ETHNIC.CLASS</th>\n",
       "      <th>LANGUAGE</th>\n",
       "    </tr>\n",
       "  </thead>\n",
       "  <tbody>\n",
       "    <tr>\n",
       "      <th>0</th>\n",
       "      <td>[75.000-</td>\n",
       "      <td>F</td>\n",
       "      <td>Married</td>\n",
       "      <td>45-54</td>\n",
       "      <td>1 to 3 years of college</td>\n",
       "      <td>Homemaker</td>\n",
       "      <td>10+ years</td>\n",
       "      <td>No</td>\n",
       "      <td>Three</td>\n",
       "      <td>None</td>\n",
       "      <td>Own</td>\n",
       "      <td>House</td>\n",
       "      <td>White</td>\n",
       "      <td>NaN</td>\n",
       "    </tr>\n",
       "    <tr>\n",
       "      <th>1</th>\n",
       "      <td>[75.000-</td>\n",
       "      <td>M</td>\n",
       "      <td>Married</td>\n",
       "      <td>45-54</td>\n",
       "      <td>College graduate</td>\n",
       "      <td>Homemaker</td>\n",
       "      <td>10+ years</td>\n",
       "      <td>No</td>\n",
       "      <td>Five</td>\n",
       "      <td>Two</td>\n",
       "      <td>Own</td>\n",
       "      <td>House</td>\n",
       "      <td>White</td>\n",
       "      <td>English</td>\n",
       "    </tr>\n",
       "    <tr>\n",
       "      <th>2</th>\n",
       "      <td>[75.000-</td>\n",
       "      <td>F</td>\n",
       "      <td>Married</td>\n",
       "      <td>25-34</td>\n",
       "      <td>College graduate</td>\n",
       "      <td>Professional/Managerial</td>\n",
       "      <td>10+ years</td>\n",
       "      <td>Yes</td>\n",
       "      <td>Three</td>\n",
       "      <td>One</td>\n",
       "      <td>Rent</td>\n",
       "      <td>Apartment</td>\n",
       "      <td>White</td>\n",
       "      <td>English</td>\n",
       "    </tr>\n",
       "    <tr>\n",
       "      <th>3</th>\n",
       "      <td>-10.000)</td>\n",
       "      <td>F</td>\n",
       "      <td>Single</td>\n",
       "      <td>14-17</td>\n",
       "      <td>Grades 9 to 11</td>\n",
       "      <td>Student, HS or College</td>\n",
       "      <td>10+ years</td>\n",
       "      <td>Not Married</td>\n",
       "      <td>Four</td>\n",
       "      <td>Two</td>\n",
       "      <td>Family</td>\n",
       "      <td>House</td>\n",
       "      <td>White</td>\n",
       "      <td>English</td>\n",
       "    </tr>\n",
       "    <tr>\n",
       "      <th>4</th>\n",
       "      <td>-10.000)</td>\n",
       "      <td>F</td>\n",
       "      <td>Single</td>\n",
       "      <td>14-17</td>\n",
       "      <td>Grades 9 to 11</td>\n",
       "      <td>Student, HS or College</td>\n",
       "      <td>4-6 years</td>\n",
       "      <td>Not Married</td>\n",
       "      <td>Four</td>\n",
       "      <td>Two</td>\n",
       "      <td>Family</td>\n",
       "      <td>House</td>\n",
       "      <td>White</td>\n",
       "      <td>English</td>\n",
       "    </tr>\n",
       "  </tbody>\n",
       "</table>\n",
       "</div>"
      ],
      "text/plain": [
       "     INCOME SEX MARITAL.STATUS    AGE                EDUCATION  \\\n",
       "0  [75.000-   F        Married  45-54  1 to 3 years of college   \n",
       "1  [75.000-   M        Married  45-54         College graduate   \n",
       "2  [75.000-   F        Married  25-34         College graduate   \n",
       "3  -10.000)   F         Single  14-17           Grades 9 to 11   \n",
       "4  -10.000)   F         Single  14-17           Grades 9 to 11   \n",
       "\n",
       "                OCCUPATION       AREA DUAL.INCOMES HOUSEHOLD.SIZE UNDER18  \\\n",
       "0                Homemaker  10+ years           No          Three    None   \n",
       "1                Homemaker  10+ years           No           Five     Two   \n",
       "2  Professional/Managerial  10+ years          Yes          Three     One   \n",
       "3   Student, HS or College  10+ years  Not Married           Four     Two   \n",
       "4   Student, HS or College  4-6 years  Not Married           Four     Two   \n",
       "\n",
       "  HOUSEHOLDER  HOME.TYPE ETHNIC.CLASS LANGUAGE  \n",
       "0         Own      House        White      NaN  \n",
       "1         Own      House        White  English  \n",
       "2        Rent  Apartment        White  English  \n",
       "3      Family      House        White  English  \n",
       "4      Family      House        White  English  "
      ]
     },
     "execution_count": 10,
     "metadata": {},
     "output_type": "execute_result"
    }
   ],
   "source": [
    "df.head()"
   ]
  },
  {
   "cell_type": "code",
   "execution_count": 11,
   "metadata": {
    "colab": {
     "base_uri": "https://localhost:8080/"
    },
    "id": "2TbIVR2yfyWZ",
    "outputId": "77c55850-2734-4a63-8d10-141e708733fe"
   },
   "outputs": [
    {
     "name": "stdout",
     "output_type": "stream",
     "text": [
      "<class 'pandas.core.frame.DataFrame'>\n",
      "RangeIndex: 8993 entries, 0 to 8992\n",
      "Data columns (total 14 columns):\n",
      " #   Column          Non-Null Count  Dtype \n",
      "---  ------          --------------  ----- \n",
      " 0   INCOME          8993 non-null   object\n",
      " 1   SEX             8993 non-null   object\n",
      " 2   MARITAL.STATUS  8833 non-null   object\n",
      " 3   AGE             8993 non-null   object\n",
      " 4   EDUCATION       8907 non-null   object\n",
      " 5   OCCUPATION      8857 non-null   object\n",
      " 6   AREA            8080 non-null   object\n",
      " 7   DUAL.INCOMES    8993 non-null   object\n",
      " 8   HOUSEHOLD.SIZE  8618 non-null   object\n",
      " 9   UNDER18         8993 non-null   object\n",
      " 10  HOUSEHOLDER     8753 non-null   object\n",
      " 11  HOME.TYPE       8636 non-null   object\n",
      " 12  ETHNIC.CLASS    8925 non-null   object\n",
      " 13  LANGUAGE        8634 non-null   object\n",
      "dtypes: object(14)\n",
      "memory usage: 983.7+ KB\n"
     ]
    }
   ],
   "source": [
    "df.info()"
   ]
  },
  {
   "cell_type": "code",
   "execution_count": 12,
   "metadata": {
    "colab": {
     "base_uri": "https://localhost:8080/"
    },
    "id": "jWnJIFtDfz1H",
    "outputId": "091c207b-e572-4afc-ae8b-50095c69f94c"
   },
   "outputs": [
    {
     "data": {
      "text/plain": [
       "INCOME             9\n",
       "SEX                2\n",
       "MARITAL.STATUS     5\n",
       "AGE                7\n",
       "EDUCATION          6\n",
       "OCCUPATION         9\n",
       "AREA               5\n",
       "DUAL.INCOMES       3\n",
       "HOUSEHOLD.SIZE     9\n",
       "UNDER18           10\n",
       "HOUSEHOLDER        3\n",
       "HOME.TYPE          5\n",
       "ETHNIC.CLASS       8\n",
       "LANGUAGE           3\n",
       "dtype: int64"
      ]
     },
     "execution_count": 12,
     "metadata": {},
     "output_type": "execute_result"
    }
   ],
   "source": [
    "df.nunique()"
   ]
  },
  {
   "cell_type": "code",
   "execution_count": 13,
   "metadata": {
    "colab": {
     "base_uri": "https://localhost:8080/",
     "height": 227
    },
    "id": "uJE4RoQuf1a3",
    "outputId": "de15adf6-fd2c-489a-b9cf-cb5f9bfef37b"
   },
   "outputs": [
    {
     "data": {
      "text/html": [
       "<div>\n",
       "<style scoped>\n",
       "    .dataframe tbody tr th:only-of-type {\n",
       "        vertical-align: middle;\n",
       "    }\n",
       "\n",
       "    .dataframe tbody tr th {\n",
       "        vertical-align: top;\n",
       "    }\n",
       "\n",
       "    .dataframe thead th {\n",
       "        text-align: right;\n",
       "    }\n",
       "</style>\n",
       "<table border=\"1\" class=\"dataframe\">\n",
       "  <thead>\n",
       "    <tr style=\"text-align: right;\">\n",
       "      <th></th>\n",
       "      <th>INCOME</th>\n",
       "      <th>SEX</th>\n",
       "      <th>MARITAL.STATUS</th>\n",
       "      <th>AGE</th>\n",
       "      <th>EDUCATION</th>\n",
       "      <th>OCCUPATION</th>\n",
       "      <th>AREA</th>\n",
       "      <th>DUAL.INCOMES</th>\n",
       "      <th>HOUSEHOLD.SIZE</th>\n",
       "      <th>UNDER18</th>\n",
       "      <th>HOUSEHOLDER</th>\n",
       "      <th>HOME.TYPE</th>\n",
       "      <th>ETHNIC.CLASS</th>\n",
       "      <th>LANGUAGE</th>\n",
       "    </tr>\n",
       "  </thead>\n",
       "  <tbody>\n",
       "    <tr>\n",
       "      <th>count</th>\n",
       "      <td>8993</td>\n",
       "      <td>8993</td>\n",
       "      <td>8833</td>\n",
       "      <td>8993</td>\n",
       "      <td>8907</td>\n",
       "      <td>8857</td>\n",
       "      <td>8080</td>\n",
       "      <td>8993</td>\n",
       "      <td>8618</td>\n",
       "      <td>8993</td>\n",
       "      <td>8753</td>\n",
       "      <td>8636</td>\n",
       "      <td>8925</td>\n",
       "      <td>8634</td>\n",
       "    </tr>\n",
       "    <tr>\n",
       "      <th>unique</th>\n",
       "      <td>9</td>\n",
       "      <td>2</td>\n",
       "      <td>5</td>\n",
       "      <td>7</td>\n",
       "      <td>6</td>\n",
       "      <td>9</td>\n",
       "      <td>5</td>\n",
       "      <td>3</td>\n",
       "      <td>9</td>\n",
       "      <td>10</td>\n",
       "      <td>3</td>\n",
       "      <td>5</td>\n",
       "      <td>8</td>\n",
       "      <td>3</td>\n",
       "    </tr>\n",
       "    <tr>\n",
       "      <th>top</th>\n",
       "      <td>-10.000)</td>\n",
       "      <td>F</td>\n",
       "      <td>Single</td>\n",
       "      <td>25-34</td>\n",
       "      <td>1 to 3 years of college</td>\n",
       "      <td>Professional/Managerial</td>\n",
       "      <td>10+ years</td>\n",
       "      <td>Not Married</td>\n",
       "      <td>Two</td>\n",
       "      <td>None</td>\n",
       "      <td>Rent</td>\n",
       "      <td>House</td>\n",
       "      <td>White</td>\n",
       "      <td>English</td>\n",
       "    </tr>\n",
       "    <tr>\n",
       "      <th>freq</th>\n",
       "      <td>1745</td>\n",
       "      <td>4918</td>\n",
       "      <td>3654</td>\n",
       "      <td>2249</td>\n",
       "      <td>3066</td>\n",
       "      <td>2820</td>\n",
       "      <td>5182</td>\n",
       "      <td>5438</td>\n",
       "      <td>2664</td>\n",
       "      <td>5724</td>\n",
       "      <td>3670</td>\n",
       "      <td>5073</td>\n",
       "      <td>5811</td>\n",
       "      <td>7794</td>\n",
       "    </tr>\n",
       "  </tbody>\n",
       "</table>\n",
       "</div>"
      ],
      "text/plain": [
       "          INCOME   SEX MARITAL.STATUS    AGE                EDUCATION  \\\n",
       "count       8993  8993           8833   8993                     8907   \n",
       "unique         9     2              5      7                        6   \n",
       "top     -10.000)     F         Single  25-34  1 to 3 years of college   \n",
       "freq        1745  4918           3654   2249                     3066   \n",
       "\n",
       "                     OCCUPATION       AREA DUAL.INCOMES HOUSEHOLD.SIZE  \\\n",
       "count                      8857       8080         8993           8618   \n",
       "unique                        9          5            3              9   \n",
       "top     Professional/Managerial  10+ years  Not Married            Two   \n",
       "freq                       2820       5182         5438           2664   \n",
       "\n",
       "       UNDER18 HOUSEHOLDER HOME.TYPE ETHNIC.CLASS LANGUAGE  \n",
       "count     8993        8753      8636         8925     8634  \n",
       "unique      10           3         5            8        3  \n",
       "top       None        Rent     House        White  English  \n",
       "freq      5724        3670      5073         5811     7794  "
      ]
     },
     "execution_count": 13,
     "metadata": {},
     "output_type": "execute_result"
    }
   ],
   "source": [
    "df.describe()"
   ]
  },
  {
   "cell_type": "markdown",
   "metadata": {
    "id": "lkITz9hZOmce"
   },
   "source": [
    "# **Clean The Data**"
   ]
  },
  {
   "cell_type": "code",
   "execution_count": 14,
   "metadata": {
    "id": "6piAJSirdZ0Y"
   },
   "outputs": [],
   "source": [
    "df.drop_duplicates(inplace=True) #Dropping duplicates"
   ]
  },
  {
   "cell_type": "code",
   "execution_count": 15,
   "metadata": {
    "id": "YShZfW9caTnH"
   },
   "outputs": [],
   "source": [
    "df.dropna(how = 'all',inplace= True) #dropping all null rows"
   ]
  },
  {
   "cell_type": "code",
   "execution_count": null,
   "metadata": {
    "id": "LHesFvFd512V"
   },
   "outputs": [],
   "source": []
  },
  {
   "cell_type": "code",
   "execution_count": 16,
   "metadata": {
    "id": "ZqcesPpaOoet"
   },
   "outputs": [],
   "source": [
    "#Mapping Unique Categorical Values to Numeric values.\n",
    "Area = {\"10+ years\":10,\"4-6 years\":5, \"7-10 years\":8, \"1-3 years\":2, \"-1 year\":1}\n",
    "Income = {\"[75.000-\":75000,'-10.000)':10000, '[50.000-75.000)':62500, '[30.000-40.000)':35000,\n",
    "       '[10.000-15.000)':12500, '[20.000-25.000)':22500, '[40.000-50.000)':45000,\n",
    "       '[25.000-30.000)':27500, '[15.000-20.000)':17500}\n",
    "Age = {'45-54':50, '25-34':29, '14-17':16, '55-64':60, '18-24':22, '65+':65, '35-44':40}\n",
    "Ed = {'College graduate':16, 'Grades 9 to 11':10, '1 to 3 years of college':14,\n",
    "       'Graduated High Scool':12, 'Grad Study':20, 'Grade 8 or less':7}"
   ]
  },
  {
   "cell_type": "code",
   "execution_count": 17,
   "metadata": {
    "id": "OpWhCNoCOtoK"
   },
   "outputs": [],
   "source": [
    "#Mapping categorical values into float\n",
    "df['AREA'] = df['AREA'].map(Area) \n",
    "df['INCOME'] = df['INCOME'].map(Income) \n",
    "df['AGE'] = df['AGE'].map(Age)\n",
    "df['EDUCATION']= df['EDUCATION'].map(Ed)"
   ]
  },
  {
   "cell_type": "code",
   "execution_count": 18,
   "metadata": {
    "colab": {
     "base_uri": "https://localhost:8080/"
    },
    "id": "bXOlChfTee85",
    "outputId": "c7aef45d-3784-4d00-a3f8-1c0cd5225a90"
   },
   "outputs": [
    {
     "name": "stdout",
     "output_type": "stream",
     "text": [
      "<class 'pandas.core.frame.DataFrame'>\n",
      "Int64Index: 8325 entries, 0 to 8992\n",
      "Data columns (total 14 columns):\n",
      " #   Column          Non-Null Count  Dtype  \n",
      "---  ------          --------------  -----  \n",
      " 0   INCOME          8325 non-null   int64  \n",
      " 1   SEX             8325 non-null   object \n",
      " 2   MARITAL.STATUS  8167 non-null   object \n",
      " 3   AGE             8325 non-null   int64  \n",
      " 4   EDUCATION       8239 non-null   float64\n",
      " 5   OCCUPATION      8190 non-null   object \n",
      " 6   AREA            7439 non-null   float64\n",
      " 7   DUAL.INCOMES    8325 non-null   object \n",
      " 8   HOUSEHOLD.SIZE  7956 non-null   object \n",
      " 9   UNDER18         8325 non-null   object \n",
      " 10  HOUSEHOLDER     8090 non-null   object \n",
      " 11  HOME.TYPE       7972 non-null   object \n",
      " 12  ETHNIC.CLASS    8257 non-null   object \n",
      " 13  LANGUAGE        7969 non-null   object \n",
      "dtypes: float64(2), int64(2), object(10)\n",
      "memory usage: 975.6+ KB\n"
     ]
    }
   ],
   "source": [
    "df.info()"
   ]
  },
  {
   "cell_type": "code",
   "execution_count": 19,
   "metadata": {
    "id": "HubN3U5n6KQK"
   },
   "outputs": [],
   "source": [
    "num_cols = ['INCOME','AGE','AREA','EDUCATION']\n",
    "cat_cols = df.columns.difference(['INCOME','AGE','AREA','EDUCATION'])"
   ]
  },
  {
   "cell_type": "code",
   "execution_count": 20,
   "metadata": {
    "id": "GLtGc31-6Fw7"
   },
   "outputs": [],
   "source": [
    "for col in df.columns:\n",
    "  if col in cat_cols:\n",
    "    df[col] = df[col].fillna(df[col].mode()[0])\n",
    "  elif col in num_cols:\n",
    "    df[col] = df[col].fillna(df[col].mean())"
   ]
  },
  {
   "cell_type": "code",
   "execution_count": 21,
   "metadata": {
    "colab": {
     "base_uri": "https://localhost:8080/"
    },
    "id": "ljkxEQXu7a2K",
    "outputId": "0a79e29b-8b3d-4653-cb18-dfb09489f713"
   },
   "outputs": [
    {
     "data": {
      "text/plain": [
       "False"
      ]
     },
     "execution_count": 21,
     "metadata": {},
     "output_type": "execute_result"
    }
   ],
   "source": [
    "df.isna().sum().any()"
   ]
  },
  {
   "cell_type": "markdown",
   "metadata": {
    "id": "rwgdXyV2ezvg"
   },
   "source": [
    "# **Solving Hypothesis**"
   ]
  },
  {
   "cell_type": "markdown",
   "metadata": {
    "id": "oj_KS-3Se3iH"
   },
   "source": [
    "# **1)**"
   ]
  },
  {
   "cell_type": "markdown",
   "metadata": {
    "id": "F1W9ex22t9Gy"
   },
   "source": [
    "**The salary will increase with the number of years education for men and women. (Relation between No. of years / salary)**"
   ]
  },
  {
   "cell_type": "markdown",
   "metadata": {
    "id": "4RWmUvw8opEQ"
   },
   "source": [
    "For Men\n"
   ]
  },
  {
   "cell_type": "code",
   "execution_count": 22,
   "metadata": {
    "id": "hR2oFDQge3Mg"
   },
   "outputs": [],
   "source": [
    "df_men = df[df['SEX']=='M']"
   ]
  },
  {
   "cell_type": "code",
   "execution_count": 23,
   "metadata": {
    "id": "gs5hmNAtgbYe"
   },
   "outputs": [],
   "source": [
    "avg_income=[]\n",
    "for i in df_men['EDUCATION'].unique():\n",
    "  df_ed = df_men[df_men['EDUCATION']==i]\n",
    "  avg_income.append(round(df_ed['INCOME'].mean()))\n"
   ]
  },
  {
   "cell_type": "code",
   "execution_count": 24,
   "metadata": {
    "colab": {
     "base_uri": "https://localhost:8080/",
     "height": 295
    },
    "id": "hH0n7TmogkZx",
    "outputId": "a925ea14-5d6f-46d9-808f-7476dc88684a"
   },
   "outputs": [
    {
     "data": {
      "image/png": "[encoded data removed]",
      "text/plain": [
       "<Figure size 432x288 with 1 Axes>"
      ]
     },
     "metadata": {
      "needs_background": "light"
     },
     "output_type": "display_data"
    }
   ],
   "source": [
    "plt.bar(df_men['EDUCATION'].unique(),avg_income)\n",
    "plt.xlabel('Average Year of Education');\n",
    "plt.ylabel('Average Salary in $');\n",
    "plt.title('Average Salary vs Years of Education for Men');\n"
   ]
  },
  {
   "cell_type": "markdown",
   "metadata": {
    "id": "EfiDE9f8nr3o"
   },
   "source": [
    "Applying T-Test"
   ]
  },
  {
   "cell_type": "code",
   "execution_count": 25,
   "metadata": {
    "colab": {
     "base_uri": "https://localhost:8080/"
    },
    "id": "a3Kk7-cWnrbX",
    "outputId": "03408a3b-02c1-4d90-d99b-79b581b1a97d"
   },
   "outputs": [
    {
     "data": {
      "text/plain": [
       "Ttest_indResult(statistic=-97.9840985598903, pvalue=0.0)"
      ]
     },
     "execution_count": 25,
     "metadata": {},
     "output_type": "execute_result"
    }
   ],
   "source": [
    "stats.ttest_ind(df_men['EDUCATION'],df_men['INCOME'])\n",
    "#Null Hypothesis is Rejected."
   ]
  },
  {
   "cell_type": "markdown",
   "metadata": {
    "id": "d2ANmjNnonGf"
   },
   "source": [
    "For Women"
   ]
  },
  {
   "cell_type": "code",
   "execution_count": 26,
   "metadata": {
    "id": "CVjC9MdPh4hL"
   },
   "outputs": [],
   "source": [
    "df_women = df[df['SEX']=='F']"
   ]
  },
  {
   "cell_type": "code",
   "execution_count": 27,
   "metadata": {
    "id": "K68cADJZixXH"
   },
   "outputs": [],
   "source": [
    "avg_income2=[]\n",
    "for i in df_women['EDUCATION'].unique():\n",
    "  df_ed2 = df_women[df_women['EDUCATION']==i]\n",
    "  avg_income2.append(round(df_ed2['INCOME'].mean()))"
   ]
  },
  {
   "cell_type": "code",
   "execution_count": 28,
   "metadata": {
    "colab": {
     "base_uri": "https://localhost:8080/",
     "height": 295
    },
    "id": "V7OddlhRiyaX",
    "outputId": "5f6f8d44-da33-4764-8e67-97e6d0b3ed99"
   },
   "outputs": [
    {
     "data": {
      "image/png": "[encoded data removed]",
      "text/plain": [
       "<Figure size 432x288 with 1 Axes>"
      ]
     },
     "metadata": {
      "needs_background": "light"
     },
     "output_type": "display_data"
    }
   ],
   "source": [
    "plt.bar(df_women['EDUCATION'].unique(),avg_income2)\n",
    "plt.xlabel('Average Year of Education');\n",
    "plt.ylabel('Average Salary in $');\n",
    "plt.title('Average Salary vs Years of Education for Women');\n",
    "#Hypothesis Verified."
   ]
  },
  {
   "cell_type": "markdown",
   "metadata": {
    "id": "iLHV-DR4otJ-"
   },
   "source": [
    "Applying T-Test"
   ]
  },
  {
   "cell_type": "code",
   "execution_count": 29,
   "metadata": {
    "colab": {
     "base_uri": "https://localhost:8080/"
    },
    "id": "jNJlhKeAou_A",
    "outputId": "7457fee6-dd30-4f8e-d211-8452e83eaa26"
   },
   "outputs": [
    {
     "data": {
      "text/plain": [
       "Ttest_indResult(statistic=-97.9840985598903, pvalue=0.0)"
      ]
     },
     "execution_count": 29,
     "metadata": {},
     "output_type": "execute_result"
    }
   ],
   "source": [
    "stats.ttest_ind(df_men['EDUCATION'],df_men['INCOME'])\n",
    "#Null Hypothesis is Rejected."
   ]
  },
  {
   "cell_type": "markdown",
   "metadata": {
    "id": "zmCJ4r19jQ7K"
   },
   "source": [
    "# **2)**"
   ]
  },
  {
   "cell_type": "markdown",
   "metadata": {
    "id": "hNhHyk2MuDNM"
   },
   "source": [
    "**Men tend to earn more for undergraduate studies, whereas this gap is no longer significant after reaching graduate studies.**"
   ]
  },
  {
   "cell_type": "code",
   "execution_count": 30,
   "metadata": {
    "id": "F_2ScLCtjcUh"
   },
   "outputs": [],
   "source": [
    "df_undergrad = df_men[df_men['EDUCATION']<16]"
   ]
  },
  {
   "cell_type": "code",
   "execution_count": 31,
   "metadata": {
    "id": "tckHVOgcw2Er"
   },
   "outputs": [],
   "source": [
    "df_grad = df_men[df_men['EDUCATION']==16]"
   ]
  },
  {
   "cell_type": "code",
   "execution_count": 32,
   "metadata": {
    "id": "E7drjRPsxcAj"
   },
   "outputs": [],
   "source": [
    "df_postgrad = df_men[df_men['EDUCATION']==20]"
   ]
  },
  {
   "cell_type": "code",
   "execution_count": 33,
   "metadata": {
    "id": "ZFhAGXOzxf67"
   },
   "outputs": [],
   "source": [
    "avg_income7 = []\n",
    "avg_income7.append(round(df_undergrad['INCOME'].mean()))\n",
    "avg_income7.append(round(df_grad['INCOME'].mean()))\n",
    "avg_income7.append(round(df_postgrad['INCOME'].mean()))\n"
   ]
  },
  {
   "cell_type": "code",
   "execution_count": 34,
   "metadata": {
    "colab": {
     "base_uri": "https://localhost:8080/",
     "height": 295
    },
    "id": "NT1oiKOKxxoD",
    "outputId": "8ccd146b-0d02-4d58-ab44-63cfdf29d890"
   },
   "outputs": [
    {
     "data": {
      "image/png": "[encoded data removed]",
      "text/plain": [
       "<Figure size 432x288 with 1 Axes>"
      ]
     },
     "metadata": {
      "needs_background": "light"
     },
     "output_type": "display_data"
    }
   ],
   "source": [
    "plt.barh(['Undergrad Student', 'Graduate Student', 'Research Student'],avg_income7)\n",
    "plt.ylabel('Student Type');\n",
    "plt.xlabel('Average Salary in $');\n",
    "plt.title('Average Salary vs Student Type');\n",
    "#Hypothesis Approved."
   ]
  },
  {
   "cell_type": "markdown",
   "metadata": {
    "id": "UQVATaYmo9SJ"
   },
   "source": [
    "Applying T-test \n",
    "\n"
   ]
  },
  {
   "cell_type": "code",
   "execution_count": 35,
   "metadata": {
    "id": "prd44OBHpN4A"
   },
   "outputs": [],
   "source": [
    "E1,p1 = stats.ttest_ind(df_undergrad['INCOME'],df_undergrad['EDUCATION'])\n",
    "E2,p2 = stats.ttest_ind(df_grad['INCOME'],df_grad['EDUCATION'])\n",
    "E3,p3 = stats.ttest_ind(df_postgrad['INCOME'],df_postgrad['EDUCATION'])"
   ]
  },
  {
   "cell_type": "code",
   "execution_count": 36,
   "metadata": {
    "colab": {
     "base_uri": "https://localhost:8080/"
    },
    "id": "3H-UT7zOpt2a",
    "outputId": "279b063c-e169-4997-ddc6-5703e42bc6a6"
   },
   "outputs": [
    {
     "name": "stdout",
     "output_type": "stream",
     "text": [
      "76.24328883001039 54.3082471861746 50.050585075097985\n"
     ]
    }
   ],
   "source": [
    "print(E1,E2,E3)"
   ]
  },
  {
   "cell_type": "markdown",
   "metadata": {
    "id": "sbDfUVF5GsI3"
   },
   "source": [
    "For Women"
   ]
  },
  {
   "cell_type": "code",
   "execution_count": 37,
   "metadata": {
    "id": "YEVrw-4FD6GX"
   },
   "outputs": [],
   "source": [
    "df_undergrad2 = df_women[df_women['EDUCATION']<16]\n",
    "df_grad2 = df_women[df_women['EDUCATION']==16]\n",
    "df_postgrad2 = df_women[df_women['EDUCATION']==20]"
   ]
  },
  {
   "cell_type": "code",
   "execution_count": 38,
   "metadata": {
    "id": "gFp21mBlEETq"
   },
   "outputs": [],
   "source": [
    "avg_income11 = []\n",
    "avg_income11.append(round(df_undergrad2['INCOME'].mean()))\n",
    "avg_income11.append(round(df_grad2['INCOME'].mean()))\n",
    "avg_income11.append(round(df_postgrad2['INCOME'].mean()))\n"
   ]
  },
  {
   "cell_type": "code",
   "execution_count": 39,
   "metadata": {
    "colab": {
     "base_uri": "https://localhost:8080/",
     "height": 295
    },
    "id": "_KFkDYSjEHDH",
    "outputId": "75ee2b74-883e-473d-90d5-9f9df9f3173d"
   },
   "outputs": [
    {
     "data": {
      "image/png": "[encoded data removed]",
      "text/plain": [
       "<Figure size 432x288 with 1 Axes>"
      ]
     },
     "metadata": {
      "needs_background": "light"
     },
     "output_type": "display_data"
    }
   ],
   "source": [
    "plt.barh(['Undergrad Student', 'Graduate Student', 'Research Student'],avg_income11)\n",
    "plt.ylabel('Student Type');\n",
    "plt.xlabel('Average Salary in $');\n",
    "plt.title('Average Salary for Women vs Student Type');\n",
    "#Hypothesis Approved."
   ]
  },
  {
   "cell_type": "code",
   "execution_count": 40,
   "metadata": {
    "id": "JMty6DuLGuDu"
   },
   "outputs": [],
   "source": [
    "E_1,p_1 = stats.ttest_ind(df_undergrad2['INCOME'],df_undergrad2['EDUCATION'])\n",
    "E_2,p_2 = stats.ttest_ind(df_grad2['INCOME'],df_grad2['EDUCATION'])\n",
    "E_3,p_3 = stats.ttest_ind(df_postgrad2['INCOME'],df_postgrad2['EDUCATION'])"
   ]
  },
  {
   "cell_type": "code",
   "execution_count": 41,
   "metadata": {
    "colab": {
     "base_uri": "https://localhost:8080/"
    },
    "id": "46VlXsfCG2_5",
    "outputId": "45702e2a-a31c-4007-e898-bce9c4fae373"
   },
   "outputs": [
    {
     "name": "stdout",
     "output_type": "stream",
     "text": [
      "84.81293299603462 54.17084709350329 45.615016809652964\n"
     ]
    }
   ],
   "source": [
    "print(E_1,E_2,E_3)"
   ]
  },
  {
   "cell_type": "code",
   "execution_count": 42,
   "metadata": {
    "colab": {
     "base_uri": "https://localhost:8080/"
    },
    "id": "vYAYQPLbG6s_",
    "outputId": "a9d89f8f-e987-41c7-b9f3-63fdb3d244e6"
   },
   "outputs": [
    {
     "name": "stdout",
     "output_type": "stream",
     "text": [
      "8.569644166024233\n",
      "-0.1374000926713066\n",
      "-4.435568265445021\n"
     ]
    }
   ],
   "source": [
    "print(E_1- E1)\n",
    "print(E_2 - E2)\n",
    "print(E_3 - E3)"
   ]
  },
  {
   "cell_type": "markdown",
   "metadata": {
    "id": "h4Oktm3lqH1P"
   },
   "source": [
    "The Rate of change from undergrade to grad was higher for the men, however when it comes to post grad, the women salary increased more than men, which indicates that they're quite similar after post grad. \n",
    "**Hypothesis Approved**"
   ]
  },
  {
   "cell_type": "markdown",
   "metadata": {
    "id": "U1-xGrk6jvqA"
   },
   "source": [
    "# **3)**"
   ]
  },
  {
   "cell_type": "markdown",
   "metadata": {
    "id": "jxbIkmFEuIfK"
   },
   "source": [
    "**Caucasian men tend to earn more money than the rest of the population (CLASS vs Salary)**"
   ]
  },
  {
   "cell_type": "code",
   "execution_count": 43,
   "metadata": {
    "id": "igPQsNNqj3SV"
   },
   "outputs": [],
   "source": [
    "avg_income3=[]\n",
    "for i in df_men['ETHNIC.CLASS'].unique():\n",
    "  df_ed3 = df_men[df_men['ETHNIC.CLASS']==i]\n",
    "  avg_income3.append(round(df_ed3['INCOME'].mean()))"
   ]
  },
  {
   "cell_type": "code",
   "execution_count": 44,
   "metadata": {
    "colab": {
     "base_uri": "https://localhost:8080/",
     "height": 295
    },
    "id": "kF1doxIhkXVp",
    "outputId": "e3cf3e41-099b-4825-d315-170efe143043"
   },
   "outputs": [
    {
     "data": {
      "image/png": "[encoded data removed]",
      "text/plain": [
       "<Figure size 432x288 with 1 Axes>"
      ]
     },
     "metadata": {
      "needs_background": "light"
     },
     "output_type": "display_data"
    }
   ],
   "source": [
    "plt.barh(df['ETHNIC.CLASS'].unique(),avg_income3)\n",
    "plt.ylabel('Ethnic Class');\n",
    "plt.xlabel('Average Salary in $');\n",
    "plt.title('Average Salary vs Ethnic Class For Men');\n",
    "#Hypothesis Accepted as White Men tend to earn the more money than the rest of population"
   ]
  },
  {
   "cell_type": "markdown",
   "metadata": {
    "id": "n247DaK39hwa"
   },
   "source": [
    "Apply F- Test"
   ]
  },
  {
   "cell_type": "code",
   "execution_count": 45,
   "metadata": {
    "id": "ew8M0nDA-zVC"
   },
   "outputs": [],
   "source": [
    "df_Pacific = df_men[df_men['ETHNIC.CLASS']=='Pacific Islander']\n",
    "df_American_indian = df_men[df_men['ETHNIC.CLASS']=='American Indian'] \n",
    "df_East_Indian = df_men[df_men['ETHNIC.CLASS']=='East Indian']\n",
    "df_Other = df_men[df_men['ETHNIC.CLASS']=='Other']\n",
    "df_Black = df_men[df_men['ETHNIC.CLASS']=='Black']\n",
    "df_Asian = df_men[df_men['ETHNIC.CLASS']=='Asian']\n",
    "df_Hispanic = df_men[df_men['ETHNIC.CLASS']=='Hispanic']\n",
    "df_White = df_men[df_men['ETHNIC.CLASS']=='White']"
   ]
  },
  {
   "cell_type": "code",
   "execution_count": 46,
   "metadata": {
    "id": "Na7KUiKH9jCT"
   },
   "outputs": [],
   "source": [
    "F1, PF1 = stats.f_oneway(df_Pacific['INCOME'],df_American_indian['INCOME'],df_Other['INCOME'],df_Black['INCOME'],df_Asian['INCOME'],df_Hispanic['INCOME'],df_White['INCOME'])"
   ]
  },
  {
   "cell_type": "code",
   "execution_count": 47,
   "metadata": {
    "colab": {
     "base_uri": "https://localhost:8080/"
    },
    "id": "Sm8j4PQs_4qW",
    "outputId": "0d5e79d4-eb8c-44fd-9956-6dd297ffb652"
   },
   "outputs": [
    {
     "name": "stdout",
     "output_type": "stream",
     "text": [
      "Null Hypothesis Rejected\n",
      "Pacific: 12.457146219689026 2.753085081484783e-18\n",
      "American_indian: 12.516946711691018 5.995497841539848e-20\n",
      "East Indian: 4.03084084922823 0.002969214840861337\n",
      "Others: 16.89379984969221 1.8498520804752014e-32\n",
      "Black:  31.6298623347531 4.476085727656517e-113\n",
      "Asian : 24.544068932933648 4.7101656965153594e-66\n",
      "Hispanic 37.4085073382715 1.1612229867742457e-154\n",
      "White 79.2545611752186 0.0\n",
      "0.0 7\n"
     ]
    }
   ],
   "source": [
    "if (PF1 < 0.05):\n",
    "  print('Null Hypothesis Rejected') #although we don't know who causes that. we have to check all of them.\n",
    "  # apply ttest_indep()\n",
    "  t1, p1 = stats.ttest_1samp(df_Pacific['INCOME'],0.05)\n",
    "  print('Pacific:', t1, p1)\n",
    "\n",
    "  t2, p2 = stats.ttest_1samp(df_American_indian['INCOME'],0.05)\n",
    "  print('American_indian:', t2, p2)\n",
    "\n",
    "  t3, p3 = stats.ttest_1samp(df_East_Indian['INCOME'],0.05)\n",
    "  print('East Indian:', t3, p3)\n",
    "  \n",
    "  t4, p4 = stats.ttest_1samp(df_Other['INCOME'],0.05)\n",
    "  print('Others:', t4, p4)\n",
    "\n",
    "  t5, p5 = stats.ttest_1samp(df_Black['INCOME'],0.05)\n",
    "  print('Black: ', t5, p5)\n",
    "\n",
    "  t6, p6 = stats.ttest_1samp(df_Asian['INCOME'],0.05)\n",
    "  print('Asian :', t6, p6)\n",
    "\n",
    "  t7, p7 = stats.ttest_1samp(df_Hispanic['INCOME'],0.05)\n",
    "  print('Hispanic', t7, p7)\n",
    "\n",
    "  t8, p8 = stats.ttest_1samp(df_White['INCOME'],0.05)\n",
    "  print('White', t8, p8)\n",
    "\n",
    "  all_p = [p1,p2,p3,p4,p5,p6,p7,p8]\n",
    "  \n",
    "  m_p = min(all_p)\n",
    "  print(m_p,all_p.index(m_p))\n",
    "\n",
    "  #It's aprroved the heighst Salary is the White Ethinc Class.\n",
    "\n",
    "  "
   ]
  },
  {
   "cell_type": "markdown",
   "metadata": {
    "id": "O49gE4DNlOhb"
   },
   "source": [
    "# **4)**"
   ]
  },
  {
   "cell_type": "markdown",
   "metadata": {
    "id": "shB69GrMuQ8Z"
   },
   "source": [
    "**There is a direct relationship between the type of occupation and the salary earned and women occupy a greater proportion of the occupation category earning a low salary (Occupation lowest salaries vs Sex)**"
   ]
  },
  {
   "cell_type": "code",
   "execution_count": 48,
   "metadata": {
    "id": "41oEUTkSlUFK"
   },
   "outputs": [],
   "source": [
    "avg_income4=[]\n",
    "for i in df['OCCUPATION'].unique():\n",
    "  df_ed4 = df[df['OCCUPATION']==i]\n",
    "  avg_income4.append(round(df_ed4['INCOME'].mean()))"
   ]
  },
  {
   "cell_type": "code",
   "execution_count": 49,
   "metadata": {
    "colab": {
     "base_uri": "https://localhost:8080/",
     "height": 295
    },
    "id": "4Eo5sLyzmPBP",
    "outputId": "cba63063-7d52-4961-9c61-c1e2cf6311db"
   },
   "outputs": [
    {
     "data": {
      "image/png": "[encoded data removed]",
      "text/plain": [
       "<Figure size 432x288 with 1 Axes>"
      ]
     },
     "metadata": {
      "needs_background": "light"
     },
     "output_type": "display_data"
    }
   ],
   "source": [
    "plt.barh(df['OCCUPATION'].unique(),avg_income4)\n",
    "plt.ylabel('OCCUPATION');\n",
    "plt.xlabel('Average Salary in $');\n",
    "plt.title('Average Salary vs OCCUPATION');\n"
   ]
  },
  {
   "cell_type": "markdown",
   "metadata": {
    "id": "CYlXo3v7reZY"
   },
   "source": [
    "It's easy to see the lowest 2 occuations are Unemployed, Student"
   ]
  },
  {
   "cell_type": "code",
   "execution_count": 50,
   "metadata": {
    "id": "2Oh0eSQBqNly"
   },
   "outputs": [],
   "source": [
    "df_student = df[df['OCCUPATION']=='Student, HS or College']"
   ]
  },
  {
   "cell_type": "code",
   "execution_count": 51,
   "metadata": {
    "id": "k5mCIhErqSV6"
   },
   "outputs": [],
   "source": [
    "df_unemployed = df[df['OCCUPATION']=='Unemployed']"
   ]
  },
  {
   "cell_type": "code",
   "execution_count": 52,
   "metadata": {
    "id": "u6jTG1N0n6Qy"
   },
   "outputs": [],
   "source": [
    "df_try = pd.concat([df_student,df_unemployed])"
   ]
  },
  {
   "cell_type": "code",
   "execution_count": 53,
   "metadata": {
    "id": "heL3rd6CoCaj"
   },
   "outputs": [],
   "source": [
    "list1 = df_try['SEX'].value_counts()"
   ]
  },
  {
   "cell_type": "code",
   "execution_count": 54,
   "metadata": {
    "id": "gi2v1hVCrVey"
   },
   "outputs": [],
   "source": [
    "sizes = [list1[0],list1[1]]\n",
    "labels = ['Women','Men']"
   ]
  },
  {
   "cell_type": "code",
   "execution_count": 55,
   "metadata": {
    "colab": {
     "base_uri": "https://localhost:8080/",
     "height": 248
    },
    "id": "is71Uhgqrqck",
    "outputId": "fefae1e6-c868-476e-c72e-2e46ea72d731"
   },
   "outputs": [
    {
     "data": {
      "image/png": "[encoded data removed]",
      "text/plain": [
       "<Figure size 432x288 with 1 Axes>"
      ]
     },
     "metadata": {},
     "output_type": "display_data"
    }
   ],
   "source": [
    "plt.pie(sizes,labels=labels,autopct='%1.1f%%',shadow=True, startangle=90);\n",
    "#Hypothesis Verified."
   ]
  },
  {
   "cell_type": "markdown",
   "metadata": {
    "id": "DkBCpVacrSs_"
   },
   "source": [
    "Applying T-test"
   ]
  },
  {
   "cell_type": "code",
   "execution_count": 56,
   "metadata": {
    "id": "LgPF4wD0rSUe"
   },
   "outputs": [],
   "source": [
    " df_lowest_women = df_try[df_try['SEX']=='F']"
   ]
  },
  {
   "cell_type": "code",
   "execution_count": 57,
   "metadata": {
    "id": "YAdmhUdsro34"
   },
   "outputs": [],
   "source": [
    " df_lowest_men = df_try[df_try['SEX']=='M']"
   ]
  },
  {
   "cell_type": "code",
   "execution_count": 58,
   "metadata": {
    "id": "Lv3R1A1qrrjm"
   },
   "outputs": [],
   "source": [
    "E4,p4 = stats.ttest_1samp(df_lowest_women['INCOME'],0.05)\n",
    "E5,p5 = stats.ttest_1samp(df_lowest_men['INCOME'],0.05)"
   ]
  },
  {
   "cell_type": "code",
   "execution_count": 59,
   "metadata": {
    "colab": {
     "base_uri": "https://localhost:8080/"
    },
    "id": "dxP2ITMwskaH",
    "outputId": "a053eecc-dea5-4f09-fdda-a640ab187e03"
   },
   "outputs": [
    {
     "name": "stdout",
     "output_type": "stream",
     "text": [
      "31.567602745458306 29.746158230019326\n",
      "7.300960881287559e-146 7.141510919347265e-128\n"
     ]
    }
   ],
   "source": [
    "print(E4,E5)\n",
    "print(p4,p5)"
   ]
  },
  {
   "cell_type": "markdown",
   "metadata": {
    "id": "ZQvYg5yJsynO"
   },
   "source": [
    "It's Easy to see that the relation of Lowest men income is higher than women income.\n",
    "**Hypothesis Approved**"
   ]
  },
  {
   "cell_type": "markdown",
   "metadata": {
    "id": "yYRdHhWgsFdT"
   },
   "source": [
    "# **5)**"
   ]
  },
  {
   "cell_type": "markdown",
   "metadata": {
    "id": "H-14pEPpuW06"
   },
   "source": [
    "**People who live in houses tend to earn more money whether they are male or female. (Home. Type vs Income (for both male and female).**"
   ]
  },
  {
   "cell_type": "markdown",
   "metadata": {
    "id": "AnEQWKkh8RdC"
   },
   "source": [
    "For Men"
   ]
  },
  {
   "cell_type": "code",
   "execution_count": 60,
   "metadata": {
    "id": "qWSjyWUIsvxt"
   },
   "outputs": [],
   "source": [
    "avg_income5=[]\n",
    "for i in df_men['HOME.TYPE'].unique():\n",
    "  df_ed5 = df_men[df_men['HOME.TYPE']==i]\n",
    "  avg_income5.append(round(df_ed5['INCOME'].mean()))"
   ]
  },
  {
   "cell_type": "code",
   "execution_count": 61,
   "metadata": {
    "colab": {
     "base_uri": "https://localhost:8080/",
     "height": 295
    },
    "id": "vtuDDYTatBEw",
    "outputId": "ac20eb09-e9b1-46d3-88ff-72014b5666b9"
   },
   "outputs": [
    {
     "data": {
      "image/png": "[encoded data removed]",
      "text/plain": [
       "<Figure size 432x288 with 1 Axes>"
      ]
     },
     "metadata": {
      "needs_background": "light"
     },
     "output_type": "display_data"
    }
   ],
   "source": [
    "plt.barh(df_men['HOME.TYPE'].unique(),avg_income5)\n",
    "plt.ylabel('Home Type');\n",
    "plt.xlabel('Average Salary in $');\n",
    "plt.title('Average Salary vs Home Type for Men');\n",
    "#Hypothesis almost verified, however condominium Makes the most profits"
   ]
  },
  {
   "cell_type": "markdown",
   "metadata": {
    "id": "T9v6EFUW8UBb"
   },
   "source": [
    "Apply T-Test\n"
   ]
  },
  {
   "cell_type": "code",
   "execution_count": 62,
   "metadata": {
    "id": "qZ6Zoa628TPT"
   },
   "outputs": [],
   "source": [
    "df_men_house = df_men[df_men['HOME.TYPE']=='House']\n",
    "sample_size = df_men_house.shape[0]"
   ]
  },
  {
   "cell_type": "code",
   "execution_count": 63,
   "metadata": {
    "id": "CHUyck2f8ao6"
   },
   "outputs": [],
   "source": [
    "E6,P6 = stats.ttest_rel(df_men['INCOME'][:sample_size],df_men_house['INCOME'])"
   ]
  },
  {
   "cell_type": "code",
   "execution_count": 64,
   "metadata": {
    "colab": {
     "base_uri": "https://localhost:8080/"
    },
    "id": "6G0P5a2M8jPj",
    "outputId": "cea3af55-1747-4eef-a124-011804ad4a69"
   },
   "outputs": [
    {
     "name": "stdout",
     "output_type": "stream",
     "text": [
      "Null Hypothesis dis aprroved\n",
      "The house Owners' Income is one of the largest Income for the men\n"
     ]
    }
   ],
   "source": [
    "if (P6 < 0.05):\n",
    "  print(\"Null Hypothesis dis aprroved\")\n",
    "  print(\"The house Owners' Income is one of the largest Income for the men\")"
   ]
  },
  {
   "cell_type": "markdown",
   "metadata": {
    "id": "RSc2hTP18hOL"
   },
   "source": [
    "For Women"
   ]
  },
  {
   "cell_type": "code",
   "execution_count": 65,
   "metadata": {
    "id": "DRmbmSajuog7"
   },
   "outputs": [],
   "source": [
    "avg_income6=[]\n",
    "for i in df_women['HOME.TYPE'].unique():\n",
    "  df_ed6 = df_women[df_women['HOME.TYPE']==i]\n",
    "  avg_income6.append(round(df_ed6['INCOME'].mean()))"
   ]
  },
  {
   "cell_type": "code",
   "execution_count": 66,
   "metadata": {
    "colab": {
     "base_uri": "https://localhost:8080/",
     "height": 295
    },
    "id": "Bf4wB5T_uo4L",
    "outputId": "8c9ee5bf-4aa6-4bc3-f33a-f7b1b573f8d2"
   },
   "outputs": [
    {
     "data": {
      "image/png": "[encoded data removed]",
      "text/plain": [
       "<Figure size 432x288 with 1 Axes>"
      ]
     },
     "metadata": {
      "needs_background": "light"
     },
     "output_type": "display_data"
    }
   ],
   "source": [
    "plt.barh(df_women['HOME.TYPE'].unique(),avg_income6)\n",
    "plt.ylabel('Home Type');\n",
    "plt.xlabel('Average Salary in $');\n",
    "plt.title('Average Salary vs Home Type for Women');\n",
    "#Hypothesis almost verified, however condominium Makes the most profits"
   ]
  },
  {
   "cell_type": "markdown",
   "metadata": {
    "id": "aIdxS3j6tMNV"
   },
   "source": [
    "Applying T-Test"
   ]
  },
  {
   "cell_type": "code",
   "execution_count": 67,
   "metadata": {
    "id": "T-c51x946eHq"
   },
   "outputs": [],
   "source": [
    "df_women_house = df_women[df_women['HOME.TYPE']=='House']\n",
    "sample_size = df_women_house.shape[0]"
   ]
  },
  {
   "cell_type": "code",
   "execution_count": 68,
   "metadata": {
    "colab": {
     "base_uri": "https://localhost:8080/"
    },
    "id": "ZWO8uL5d7F2D",
    "outputId": "17a0a933-33b0-4a9a-a917-093d8041636b"
   },
   "outputs": [],
   "source": [
    "E7,P7 = stats.ttest_rel(df_women['INCOME'][:sample_size],df_women_house['INCOME'])"
   ]
  },
  {
   "cell_type": "code",
   "execution_count": 70,
   "metadata": {
    "id": "yIgaRs4w7Itz"
   },
   "outputs": [
    {
     "name": "stdout",
     "output_type": "stream",
     "text": [
      "Null Hypothesis is aprroved\n",
      "The house Owners' Income is one of the largest Income for the women\n"
     ]
    }
   ],
   "source": [
    "if (P7 < 0.05):\n",
    "  print(\"Null Hypothesis is aprroved\")\n",
    "  print(\"The house Owners' Income is one of the largest Income for the women\")"
   ]
  }
 ],
 "metadata": {
  "colab": {
   "collapsed_sections": [
    "rwgdXyV2ezvg",
    "oj_KS-3Se3iH",
    "zmCJ4r19jQ7K",
    "U1-xGrk6jvqA",
    "O49gE4DNlOhb",
    "yYRdHhWgsFdT"
   ],
   "name": "Hypothesis testing.ipynb",
   "provenance": []
  },
  "kernelspec": {
   "display_name": "Python 3",
   "language": "python",
   "name": "python3"
  },
  "language_info": {
   "codemirror_mode": {
    "name": "ipython",
    "version": 3
   },
   "file_extension": ".py",
   "mimetype": "text/x-python",
   "name": "python",
   "nbconvert_exporter": "python",
   "pygments_lexer": "ipython3",
   "version": "3.8.8"
  }
 },
 "nbformat": 4,
 "nbformat_minor": 1
}
